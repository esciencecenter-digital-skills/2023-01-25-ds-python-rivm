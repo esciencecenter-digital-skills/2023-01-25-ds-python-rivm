{
 "cells": [
  {
   "cell_type": "markdown",
   "id": "b5912544-0996-4b78-8c71-1dc91080f5f7",
   "metadata": {},
   "source": [
    "# Post-workshop exercise\n",
    "For this exercise we use the 'health, lifestyle, health care use and supply, causes of death; from 1900' dataset from CBS opendata. You can get a visual overview of the data [here]( https://opendata.cbs.nl/statline/#/CBS/en/dataset/37852eng/table?ts=1671446345991). For this exercise please use [this file](https://raw.githubusercontent.com/esciencecenter-digital-skills/2023-01-25-ds-python-rivm/data/Health__lifestyle__health_care_use_and_supply__causes_of_death__from_1900_21122022_143458.csv), right-click and click 'save as' to download it to your computer. \n",
    "\n",
    "Imagine you have the task to explore the dataset and present your findings to your colleagues in a jupyter notebook. So make the graphs as readable as possible, and put some clarifying documentation in markdown cells around your code."
   ]
  },
  {
   "cell_type": "code",
   "execution_count": 1,
   "id": "e7442ff6-88b0-4948-81bd-c8e4aa5c38db",
   "metadata": {},
   "outputs": [],
   "source": [
    "import matplotlib.pyplot as plt\n",
    "import numpy as np\n",
    "import pandas as pd\n",
    "import plotnine as p9"
   ]
  },
  {
   "cell_type": "markdown",
   "id": "7e1b1661-9303-45c1-a208-4fc230e262cc",
   "metadata": {
    "tags": []
   },
   "source": [
    "### 1. Loading the data\n",
    "1. Load the data in pandas. (Hint: check the separator that is used in the file, you can pass a different separator to `read_csv()` using the `sep` argument)\n",
    "2. Take a look at the data. As you can see, the Topic is read as a column and not as index. You can fix this by passing `index_col='Topic'` to `read_csv()`."
   ]
  },
  {
   "cell_type": "code",
   "execution_count": 15,
   "id": "0c9344ba-f0f4-49dc-bcc1-87e7923c1a1d",
   "metadata": {},
   "outputs": [
    {
     "data": {
      "text/html": [
       "<div>\n",
       "<style scoped>\n",
       "    .dataframe tbody tr th:only-of-type {\n",
       "        vertical-align: middle;\n",
       "    }\n",
       "\n",
       "    .dataframe tbody tr th {\n",
       "        vertical-align: top;\n",
       "    }\n",
       "\n",
       "    .dataframe thead th {\n",
       "        text-align: right;\n",
       "    }\n",
       "</style>\n",
       "<table border=\"1\" class=\"dataframe\">\n",
       "  <thead>\n",
       "    <tr style=\"text-align: right;\">\n",
       "      <th></th>\n",
       "      <th>Unnamed: 1</th>\n",
       "      <th>1900</th>\n",
       "      <th>1940</th>\n",
       "      <th>1980</th>\n",
       "      <th>1990</th>\n",
       "      <th>2000</th>\n",
       "      <th>2010</th>\n",
       "      <th>2019</th>\n",
       "      <th>2020</th>\n",
       "      <th>2021</th>\n",
       "      <th>2022</th>\n",
       "    </tr>\n",
       "    <tr>\n",
       "      <th>Topic</th>\n",
       "      <th></th>\n",
       "      <th></th>\n",
       "      <th></th>\n",
       "      <th></th>\n",
       "      <th></th>\n",
       "      <th></th>\n",
       "      <th></th>\n",
       "      <th></th>\n",
       "      <th></th>\n",
       "      <th></th>\n",
       "      <th></th>\n",
       "    </tr>\n",
       "  </thead>\n",
       "  <tbody>\n",
       "    <tr>\n",
       "      <th>Demographic key figures|Population on January 1</th>\n",
       "      <td>x 1 000</td>\n",
       "      <td>5104</td>\n",
       "      <td>8834</td>\n",
       "      <td>14091</td>\n",
       "      <td>14893</td>\n",
       "      <td>15864</td>\n",
       "      <td>16575</td>\n",
       "      <td>17282</td>\n",
       "      <td>17408</td>\n",
       "      <td>17475</td>\n",
       "      <td>17591</td>\n",
       "    </tr>\n",
       "    <tr>\n",
       "      <th>Demographic key figures|Live born children</th>\n",
       "      <td>x 1 000</td>\n",
       "      <td>163</td>\n",
       "      <td>185</td>\n",
       "      <td>181</td>\n",
       "      <td>198</td>\n",
       "      <td>207</td>\n",
       "      <td>184</td>\n",
       "      <td>170</td>\n",
       "      <td>169</td>\n",
       "      <td>179</td>\n",
       "      <td>.</td>\n",
       "    </tr>\n",
       "    <tr>\n",
       "      <th>Demographic key figures|Deaths</th>\n",
       "      <td>x 1 000</td>\n",
       "      <td>92</td>\n",
       "      <td>88</td>\n",
       "      <td>114</td>\n",
       "      <td>129</td>\n",
       "      <td>141</td>\n",
       "      <td>136</td>\n",
       "      <td>152</td>\n",
       "      <td>169</td>\n",
       "      <td>171</td>\n",
       "      <td>.</td>\n",
       "    </tr>\n",
       "    <tr>\n",
       "      <th>Health status|Persons in (very) good health</th>\n",
       "      <td>%</td>\n",
       "      <td>.</td>\n",
       "      <td>.</td>\n",
       "      <td>.</td>\n",
       "      <td>81.7</td>\n",
       "      <td>80.4</td>\n",
       "      <td>80.3</td>\n",
       "      <td>78.7</td>\n",
       "      <td>81.5</td>\n",
       "      <td>80.5</td>\n",
       "      <td>.</td>\n",
       "    </tr>\n",
       "    <tr>\n",
       "      <th>Health status|Persons with complete dentures</th>\n",
       "      <td>%</td>\n",
       "      <td>.</td>\n",
       "      <td>.</td>\n",
       "      <td>.</td>\n",
       "      <td>23.7</td>\n",
       "      <td>15.7</td>\n",
       "      <td>.</td>\n",
       "      <td>.</td>\n",
       "      <td>.</td>\n",
       "      <td>.</td>\n",
       "      <td>.</td>\n",
       "    </tr>\n",
       "  </tbody>\n",
       "</table>\n",
       "</div>"
      ],
      "text/plain": [
       "                                                Unnamed: 1  1900  1940   1980  \\\n",
       "Topic                                                                           \n",
       "Demographic key figures|Population on January 1    x 1 000  5104  8834  14091   \n",
       "Demographic key figures|Live born children         x 1 000   163   185    181   \n",
       "Demographic key figures|Deaths                     x 1 000    92    88    114   \n",
       "Health status|Persons in (very) good health              %     .     .      .   \n",
       "Health status|Persons with complete dentures             %     .     .      .   \n",
       "\n",
       "                                                  1990   2000   2010   2019  \\\n",
       "Topic                                                                         \n",
       "Demographic key figures|Population on January 1  14893  15864  16575  17282   \n",
       "Demographic key figures|Live born children         198    207    184    170   \n",
       "Demographic key figures|Deaths                     129    141    136    152   \n",
       "Health status|Persons in (very) good health       81.7   80.4   80.3   78.7   \n",
       "Health status|Persons with complete dentures      23.7   15.7      .      .   \n",
       "\n",
       "                                                  2020   2021   2022  \n",
       "Topic                                                                 \n",
       "Demographic key figures|Population on January 1  17408  17475  17591  \n",
       "Demographic key figures|Live born children         169    179      .  \n",
       "Demographic key figures|Deaths                     169    171      .  \n",
       "Health status|Persons in (very) good health       81.5   80.5      .  \n",
       "Health status|Persons with complete dentures         .      .      .  "
      ]
     },
     "execution_count": 15,
     "metadata": {},
     "output_type": "execute_result"
    }
   ],
   "source": [
    "filepath = '../data/Health__lifestyle__health_care_use_and_supply__causes_of_death__from_1900_21122022_143458.csv'\n",
    "df = pd.read_csv(filepath, sep=';', index_col='Topic')\n",
    "df.head()"
   ]
  },
  {
   "cell_type": "markdown",
   "id": "6c68c8a8-12bc-42a9-a601-0915eb37b719",
   "metadata": {},
   "source": [
    "### 2. Cleaning up the data\n",
    "1. Take a look at the data. How are missing data represented?\n",
    "2. Replace the value that is used for missing data with NaN. (hint: You can replace values using DataFrame.replace(). You can use numpy.nan to represent NaN values)\n",
    "3. Rename the 'Unnamed: 1' column to 'unit'\n",
    "4. What is the datatype of the numerical values?\n",
    "5. Convert all data in the numerical columns (all columns excluding 'unit') to the 'float' datatype. Use a for-loop to loop over all the numerical columns. Change for a specific column inside the body of the for-loop."
   ]
  },
  {
   "cell_type": "code",
   "execution_count": 16,
   "id": "67153b90-341b-455e-8b7f-d07ec713e5c8",
   "metadata": {},
   "outputs": [],
   "source": [
    "# Missing data are represented as dots, to replace:\n",
    "df = df.replace('.', np.nan)"
   ]
  },
  {
   "cell_type": "code",
   "execution_count": 17,
   "id": "e7c7f78f-33bd-4db8-a9e5-c59ecca38f2d",
   "metadata": {},
   "outputs": [],
   "source": [
    "df = df.rename(columns={'Unnamed: 1': 'unit'})"
   ]
  },
  {
   "cell_type": "code",
   "execution_count": 18,
   "id": "91534938-a12d-4dbb-b806-36a0cf121b53",
   "metadata": {},
   "outputs": [
    {
     "data": {
      "text/plain": [
       "unit    object\n",
       "1900    object\n",
       "1940    object\n",
       "1980    object\n",
       "1990    object\n",
       "2000    object\n",
       "2010    object\n",
       "2019    object\n",
       "2020    object\n",
       "2021    object\n",
       "2022    object\n",
       "dtype: object"
      ]
     },
     "execution_count": 18,
     "metadata": {},
     "output_type": "execute_result"
    }
   ],
   "source": [
    "# Data types\n",
    "df.dtypes"
   ]
  },
  {
   "cell_type": "code",
   "execution_count": 19,
   "id": "8e3fbe0e-56cd-471b-83d9-bc463b746db3",
   "metadata": {},
   "outputs": [],
   "source": [
    "# Convert data types for numerical columns to float\n",
    "for column in ['1900', '1940', '1980', '1990', '2000', '2010', '2019', '2020', '2021', '2022']:\n",
    " df[column] = df[column].astype('float')"
   ]
  },
  {
   "cell_type": "markdown",
   "id": "2188bf49-9ace-4269-ae27-4d6a4e18e6c0",
   "metadata": {},
   "source": [
    "## 3. Getting an overview of the data\n",
    "The dataset is quite large, or at least there are a lot of different topics in there. The topics are organized in a nested way, for example: 'Use of health care services|Contacts with health professionals|Dentist' consists of 3 levels: 'Use of health care services' (level 1) 'Contacts with health professionals' (level 2) 'Dentist' (level 3). We will write some functions to create a better overview of the dataset and get quicker access to the different topics of our interest.\n",
    "1. First figure out how to get the level 1 topic from a full topic description. Create a new variable called topic: `topic = 'level 1| level 2 | level 3'`. Use the [`str.split`](https://www.w3schools.com/python/ref_string_split.asp) function and list indexing to get just the level 1 part of the string.\n",
    "2. Create a function that returns a list with just the seven level 1 topics in the dataset. Hint 1: use your answer from the previous question. Hint 2: You can loop over the topics in the dataframe by doing `for topic in df.index:`.\n",
    "3. Look at the code below. What does it do? Try it out! Copy these functions to your notebook, it will be very handy for the next questions!\n",
    "\n",
    "```python\n",
    "def subset_data_starting_with(df, pattern):\n",
    "    mask = df.index.str.startswith(pattern)\n",
    "    subset = df.iloc[mask].copy()\n",
    "    return subset\n",
    "\n",
    "def rename_to_level_3(df):\n",
    "    mapper = dict()\n",
    "    for topic in df.index:\n",
    "        mapper[topic] = topic.split('|')[2]\n",
    "    df = df.rename(index=mapper)\n",
    "    return df\n",
    "```"
   ]
  },
  {
   "cell_type": "code",
   "execution_count": 21,
   "id": "eceeb0be-c12e-4d22-bd87-dae39d12d24b",
   "metadata": {},
   "outputs": [
    {
     "data": {
      "text/plain": [
       "'level 1'"
      ]
     },
     "execution_count": 21,
     "metadata": {},
     "output_type": "execute_result"
    }
   ],
   "source": [
    "topic = 'level 1| level 2 | level 3'\n",
    "topic.split('|')[0]"
   ]
  },
  {
   "cell_type": "code",
   "execution_count": 20,
   "id": "8513d3e6-8b13-4499-b94d-15740ef7cfb3",
   "metadata": {},
   "outputs": [
    {
     "data": {
      "text/plain": [
       "['Demographic key figures',\n",
       " 'Health status',\n",
       " 'Lifestyle',\n",
       " 'Use of health care services',\n",
       " 'Care supply',\n",
       " 'Birth and life expectancy',\n",
       " 'Causes of death']"
      ]
     },
     "execution_count": 20,
     "metadata": {},
     "output_type": "execute_result"
    }
   ],
   "source": [
    "def get_level_1_topics(df):\n",
    "    level_1_topics = list()\n",
    "    for topic in df.index:\n",
    "        level_1_topic = topic.split('|')[0]\n",
    "        if level_1_topic not in level_1_topics:\n",
    "            level_1_topics.append(level_1_topic)\n",
    "    return level_1_topics\n",
    "get_level_1_topics(df)"
   ]
  },
  {
   "cell_type": "code",
   "execution_count": 36,
   "id": "2f33641b-e8cf-44ba-91a4-c8824ef1a0b4",
   "metadata": {},
   "outputs": [],
   "source": [
    "def subset_data_starting_with(df, pattern):\n",
    "    mask = df.index.str.startswith(pattern)\n",
    "    subset = df.iloc[mask].copy()\n",
    "    return subset\n",
    "\n",
    "def rename_to_level_3(df):\n",
    "    mapper = dict()\n",
    "    for topic in df.index:\n",
    "        mapper[topic] = topic.split('|')[2]\n",
    "    df = df.rename(index=mapper)\n",
    "    return df"
   ]
  },
  {
   "cell_type": "code",
   "execution_count": 41,
   "id": "1754c0ad-b223-4071-aebf-54ac4cfe4ee1",
   "metadata": {},
   "outputs": [
    {
     "data": {
      "text/html": [
       "<div>\n",
       "<style scoped>\n",
       "    .dataframe tbody tr th:only-of-type {\n",
       "        vertical-align: middle;\n",
       "    }\n",
       "\n",
       "    .dataframe tbody tr th {\n",
       "        vertical-align: top;\n",
       "    }\n",
       "\n",
       "    .dataframe thead th {\n",
       "        text-align: right;\n",
       "    }\n",
       "</style>\n",
       "<table border=\"1\" class=\"dataframe\">\n",
       "  <thead>\n",
       "    <tr style=\"text-align: right;\">\n",
       "      <th></th>\n",
       "      <th>unit</th>\n",
       "      <th>1900</th>\n",
       "      <th>1940</th>\n",
       "      <th>1980</th>\n",
       "      <th>1990</th>\n",
       "      <th>2000</th>\n",
       "      <th>2010</th>\n",
       "      <th>2019</th>\n",
       "      <th>2020</th>\n",
       "      <th>2021</th>\n",
       "      <th>2022</th>\n",
       "    </tr>\n",
       "    <tr>\n",
       "      <th>Topic</th>\n",
       "      <th></th>\n",
       "      <th></th>\n",
       "      <th></th>\n",
       "      <th></th>\n",
       "      <th></th>\n",
       "      <th></th>\n",
       "      <th></th>\n",
       "      <th></th>\n",
       "      <th></th>\n",
       "      <th></th>\n",
       "      <th></th>\n",
       "    </tr>\n",
       "  </thead>\n",
       "  <tbody>\n",
       "    <tr>\n",
       "      <th>Use of health care services|Contacts with health professionals|General practitioner (GP)</th>\n",
       "      <td>%</td>\n",
       "      <td>NaN</td>\n",
       "      <td>NaN</td>\n",
       "      <td>NaN</td>\n",
       "      <td>75.4</td>\n",
       "      <td>75.6</td>\n",
       "      <td>72.3</td>\n",
       "      <td>68.7</td>\n",
       "      <td>64.8</td>\n",
       "      <td>62.1</td>\n",
       "      <td>NaN</td>\n",
       "    </tr>\n",
       "    <tr>\n",
       "      <th>Use of health care services|Contacts with health professionals|Medical specialist</th>\n",
       "      <td>%</td>\n",
       "      <td>NaN</td>\n",
       "      <td>NaN</td>\n",
       "      <td>NaN</td>\n",
       "      <td>41.0</td>\n",
       "      <td>38.0</td>\n",
       "      <td>37.8</td>\n",
       "      <td>39.9</td>\n",
       "      <td>36.4</td>\n",
       "      <td>37.2</td>\n",
       "      <td>NaN</td>\n",
       "    </tr>\n",
       "    <tr>\n",
       "      <th>Use of health care services|Contacts with health professionals|Dentist</th>\n",
       "      <td>%</td>\n",
       "      <td>NaN</td>\n",
       "      <td>NaN</td>\n",
       "      <td>NaN</td>\n",
       "      <td>71.3</td>\n",
       "      <td>78.2</td>\n",
       "      <td>78.4</td>\n",
       "      <td>80.4</td>\n",
       "      <td>78.8</td>\n",
       "      <td>79.2</td>\n",
       "      <td>NaN</td>\n",
       "    </tr>\n",
       "    <tr>\n",
       "      <th>Use of health care services|Contacts with health professionals|Physiotherapist or exercise therapist</th>\n",
       "      <td>%</td>\n",
       "      <td>NaN</td>\n",
       "      <td>NaN</td>\n",
       "      <td>NaN</td>\n",
       "      <td>14.3</td>\n",
       "      <td>16.2</td>\n",
       "      <td>22.0</td>\n",
       "      <td>26.5</td>\n",
       "      <td>25.7</td>\n",
       "      <td>25.4</td>\n",
       "      <td>NaN</td>\n",
       "    </tr>\n",
       "    <tr>\n",
       "      <th>Use of health care services|Contacts with health professionals|Alternative healer</th>\n",
       "      <td>%</td>\n",
       "      <td>NaN</td>\n",
       "      <td>NaN</td>\n",
       "      <td>NaN</td>\n",
       "      <td>5.9</td>\n",
       "      <td>5.9</td>\n",
       "      <td>5.8</td>\n",
       "      <td>4.3</td>\n",
       "      <td>5.2</td>\n",
       "      <td>5.1</td>\n",
       "      <td>NaN</td>\n",
       "    </tr>\n",
       "  </tbody>\n",
       "</table>\n",
       "</div>"
      ],
      "text/plain": [
       "                                                   unit  1900  1940  1980  \\\n",
       "Topic                                                                       \n",
       "Use of health care services|Contacts with healt...    %   NaN   NaN   NaN   \n",
       "Use of health care services|Contacts with healt...    %   NaN   NaN   NaN   \n",
       "Use of health care services|Contacts with healt...    %   NaN   NaN   NaN   \n",
       "Use of health care services|Contacts with healt...    %   NaN   NaN   NaN   \n",
       "Use of health care services|Contacts with healt...    %   NaN   NaN   NaN   \n",
       "\n",
       "                                                    1990  2000  2010  2019  \\\n",
       "Topic                                                                        \n",
       "Use of health care services|Contacts with healt...  75.4  75.6  72.3  68.7   \n",
       "Use of health care services|Contacts with healt...  41.0  38.0  37.8  39.9   \n",
       "Use of health care services|Contacts with healt...  71.3  78.2  78.4  80.4   \n",
       "Use of health care services|Contacts with healt...  14.3  16.2  22.0  26.5   \n",
       "Use of health care services|Contacts with healt...   5.9   5.9   5.8   4.3   \n",
       "\n",
       "                                                    2020  2021  2022  \n",
       "Topic                                                                 \n",
       "Use of health care services|Contacts with healt...  64.8  62.1   NaN  \n",
       "Use of health care services|Contacts with healt...  36.4  37.2   NaN  \n",
       "Use of health care services|Contacts with healt...  78.8  79.2   NaN  \n",
       "Use of health care services|Contacts with healt...  25.7  25.4   NaN  \n",
       "Use of health care services|Contacts with healt...   5.2   5.1   NaN  "
      ]
     },
     "execution_count": 41,
     "metadata": {},
     "output_type": "execute_result"
    }
   ],
   "source": [
    "# Takes a subset of the data with topics starting with the pattern\n",
    "subset = subset_data_starting_with(df, 'Use of health care services|Contacts with health professionals')\n",
    "subset"
   ]
  },
  {
   "cell_type": "code",
   "execution_count": 42,
   "id": "127112d6-28ec-4f71-b8c7-d8d317910d76",
   "metadata": {},
   "outputs": [
    {
     "data": {
      "text/html": [
       "<div>\n",
       "<style scoped>\n",
       "    .dataframe tbody tr th:only-of-type {\n",
       "        vertical-align: middle;\n",
       "    }\n",
       "\n",
       "    .dataframe tbody tr th {\n",
       "        vertical-align: top;\n",
       "    }\n",
       "\n",
       "    .dataframe thead th {\n",
       "        text-align: right;\n",
       "    }\n",
       "</style>\n",
       "<table border=\"1\" class=\"dataframe\">\n",
       "  <thead>\n",
       "    <tr style=\"text-align: right;\">\n",
       "      <th></th>\n",
       "      <th>unit</th>\n",
       "      <th>1900</th>\n",
       "      <th>1940</th>\n",
       "      <th>1980</th>\n",
       "      <th>1990</th>\n",
       "      <th>2000</th>\n",
       "      <th>2010</th>\n",
       "      <th>2019</th>\n",
       "      <th>2020</th>\n",
       "      <th>2021</th>\n",
       "      <th>2022</th>\n",
       "    </tr>\n",
       "    <tr>\n",
       "      <th>Topic</th>\n",
       "      <th></th>\n",
       "      <th></th>\n",
       "      <th></th>\n",
       "      <th></th>\n",
       "      <th></th>\n",
       "      <th></th>\n",
       "      <th></th>\n",
       "      <th></th>\n",
       "      <th></th>\n",
       "      <th></th>\n",
       "      <th></th>\n",
       "    </tr>\n",
       "  </thead>\n",
       "  <tbody>\n",
       "    <tr>\n",
       "      <th>General practitioner (GP)</th>\n",
       "      <td>%</td>\n",
       "      <td>NaN</td>\n",
       "      <td>NaN</td>\n",
       "      <td>NaN</td>\n",
       "      <td>75.4</td>\n",
       "      <td>75.6</td>\n",
       "      <td>72.3</td>\n",
       "      <td>68.7</td>\n",
       "      <td>64.8</td>\n",
       "      <td>62.1</td>\n",
       "      <td>NaN</td>\n",
       "    </tr>\n",
       "    <tr>\n",
       "      <th>Medical specialist</th>\n",
       "      <td>%</td>\n",
       "      <td>NaN</td>\n",
       "      <td>NaN</td>\n",
       "      <td>NaN</td>\n",
       "      <td>41.0</td>\n",
       "      <td>38.0</td>\n",
       "      <td>37.8</td>\n",
       "      <td>39.9</td>\n",
       "      <td>36.4</td>\n",
       "      <td>37.2</td>\n",
       "      <td>NaN</td>\n",
       "    </tr>\n",
       "    <tr>\n",
       "      <th>Dentist</th>\n",
       "      <td>%</td>\n",
       "      <td>NaN</td>\n",
       "      <td>NaN</td>\n",
       "      <td>NaN</td>\n",
       "      <td>71.3</td>\n",
       "      <td>78.2</td>\n",
       "      <td>78.4</td>\n",
       "      <td>80.4</td>\n",
       "      <td>78.8</td>\n",
       "      <td>79.2</td>\n",
       "      <td>NaN</td>\n",
       "    </tr>\n",
       "    <tr>\n",
       "      <th>Physiotherapist or exercise therapist</th>\n",
       "      <td>%</td>\n",
       "      <td>NaN</td>\n",
       "      <td>NaN</td>\n",
       "      <td>NaN</td>\n",
       "      <td>14.3</td>\n",
       "      <td>16.2</td>\n",
       "      <td>22.0</td>\n",
       "      <td>26.5</td>\n",
       "      <td>25.7</td>\n",
       "      <td>25.4</td>\n",
       "      <td>NaN</td>\n",
       "    </tr>\n",
       "    <tr>\n",
       "      <th>Alternative healer</th>\n",
       "      <td>%</td>\n",
       "      <td>NaN</td>\n",
       "      <td>NaN</td>\n",
       "      <td>NaN</td>\n",
       "      <td>5.9</td>\n",
       "      <td>5.9</td>\n",
       "      <td>5.8</td>\n",
       "      <td>4.3</td>\n",
       "      <td>5.2</td>\n",
       "      <td>5.1</td>\n",
       "      <td>NaN</td>\n",
       "    </tr>\n",
       "  </tbody>\n",
       "</table>\n",
       "</div>"
      ],
      "text/plain": [
       "                                      unit  1900  1940  1980  1990  2000  \\\n",
       "Topic                                                                      \n",
       "General practitioner (GP)                %   NaN   NaN   NaN  75.4  75.6   \n",
       "Medical specialist                       %   NaN   NaN   NaN  41.0  38.0   \n",
       "Dentist                                  %   NaN   NaN   NaN  71.3  78.2   \n",
       "Physiotherapist or exercise therapist    %   NaN   NaN   NaN  14.3  16.2   \n",
       "Alternative healer                       %   NaN   NaN   NaN   5.9   5.9   \n",
       "\n",
       "                                       2010  2019  2020  2021  2022  \n",
       "Topic                                                                \n",
       "General practitioner (GP)              72.3  68.7  64.8  62.1   NaN  \n",
       "Medical specialist                     37.8  39.9  36.4  37.2   NaN  \n",
       "Dentist                                78.4  80.4  78.8  79.2   NaN  \n",
       "Physiotherapist or exercise therapist  22.0  26.5  25.7  25.4   NaN  \n",
       "Alternative healer                      5.8   4.3   5.2   5.1   NaN  "
      ]
     },
     "execution_count": 42,
     "metadata": {},
     "output_type": "execute_result"
    }
   ],
   "source": [
    "# Renames the topic to just the level 3 part of the topic\n",
    "subset = rename_to_level_3(subset)\n",
    "subset"
   ]
  },
  {
   "cell_type": "markdown",
   "id": "f42eb94e-a473-4bee-b709-a7aff1cd96f6",
   "metadata": {
    "tags": []
   },
   "source": [
    "## 4. Contacts with health professionals bar graph\n",
    "We will look at the 'Use of health care services|Contacts with health professionals' data. We want to get a visual overview of how many people have contact with health professionals. But first, it's good to note that this is an aggregated dataset. Each value in the table actually comes from aggregating data of a lot of individuals. This is different from the dataset used in the course where every row corresponded with a single captured animal, and we had to aggregate it to plot.\n",
    "1. Create a bargraph that shows the percentage of people having contact with a health professional for each category (General practitioner (GP), Medical specialist, Dentist, Physiotherapist or exercise therapist, and Alternative healer) in 2021. Hint 1: Use the functions we defined in the previous exercise to select the data. Hint 2: The topics are not in a column but in the index. You can select the topics with df.index. Hint 3: plotnine by wants to plot the count of values you pass it. Since our data is already aggregated we want to plot the actual values. You can do that by passing `stat='identity'` to the `geom_bar` function.\n",
    "2. "
   ]
  },
  {
   "cell_type": "code",
   "execution_count": 52,
   "id": "44fec91d-7a0f-4891-b327-2262720d3642",
   "metadata": {},
   "outputs": [],
   "source": [
    "# Select a subset of the data and rename\n",
    "health_contacts_df = subset_data_starting_with(df, 'Use of health care services|Contacts with health professionals')\n",
    "health_contacts_df = rename_to_level_3(health_contacts_df)"
   ]
  },
  {
   "cell_type": "code",
   "execution_count": 53,
   "id": "88deddad-3722-4992-b9eb-5889b8d30f9f",
   "metadata": {},
   "outputs": [
    {
     "data": {
      "image/png": "[encoded data removed]",
      "text/plain": [
       "<Figure size 300x600 with 1 Axes>"
      ]
     },
     "metadata": {},
     "output_type": "display_data"
    },
    {
     "data": {
      "text/plain": [
       "<ggplot: (678044763)>"
      ]
     },
     "execution_count": 53,
     "metadata": {},
     "output_type": "execute_result"
    }
   ],
   "source": [
    "(p9.ggplot(data=health_contacts_df,\n",
    "           mapping=p9.aes(x=health_contacts_df.index, y='2021'))\n",
    "    + p9.geom_bar(stat='identity')\n",
    "    + p9.theme(axis_text_x=p9.element_text(angle=90))\n",
    "    + p9.ylab(\"Percentage of people that see:\")\n",
    "    + p9.ylim([0,100])\n",
    "    + p9.theme(figure_size=(3, 6))\n",
    ")"
   ]
  },
  {
   "cell_type": "code",
   "execution_count": 131,
   "id": "25fdca94-7e98-4047-ab33-a0456f7cc1e9",
   "metadata": {
    "tags": []
   },
   "outputs": [
    {
     "data": {
      "text/html": [
       "<div>\n",
       "<style scoped>\n",
       "    .dataframe tbody tr th:only-of-type {\n",
       "        vertical-align: middle;\n",
       "    }\n",
       "\n",
       "    .dataframe tbody tr th {\n",
       "        vertical-align: top;\n",
       "    }\n",
       "\n",
       "    .dataframe thead th {\n",
       "        text-align: right;\n",
       "    }\n",
       "</style>\n",
       "<table border=\"1\" class=\"dataframe\">\n",
       "  <thead>\n",
       "    <tr style=\"text-align: right;\">\n",
       "      <th></th>\n",
       "      <th>year</th>\n",
       "      <th>Topic</th>\n",
       "      <th>value</th>\n",
       "    </tr>\n",
       "  </thead>\n",
       "  <tbody>\n",
       "    <tr>\n",
       "      <th>0</th>\n",
       "      <td>1900</td>\n",
       "      <td>General practitioner (GP)</td>\n",
       "      <td>NaN</td>\n",
       "    </tr>\n",
       "    <tr>\n",
       "      <th>1</th>\n",
       "      <td>1940</td>\n",
       "      <td>General practitioner (GP)</td>\n",
       "      <td>NaN</td>\n",
       "    </tr>\n",
       "    <tr>\n",
       "      <th>2</th>\n",
       "      <td>1980</td>\n",
       "      <td>General practitioner (GP)</td>\n",
       "      <td>NaN</td>\n",
       "    </tr>\n",
       "    <tr>\n",
       "      <th>3</th>\n",
       "      <td>1990</td>\n",
       "      <td>General practitioner (GP)</td>\n",
       "      <td>75.4</td>\n",
       "    </tr>\n",
       "    <tr>\n",
       "      <th>4</th>\n",
       "      <td>2000</td>\n",
       "      <td>General practitioner (GP)</td>\n",
       "      <td>75.6</td>\n",
       "    </tr>\n",
       "  </tbody>\n",
       "</table>\n",
       "</div>"
      ],
      "text/plain": [
       "   year                      Topic  value\n",
       "0  1900  General practitioner (GP)    NaN\n",
       "1  1940  General practitioner (GP)    NaN\n",
       "2  1980  General practitioner (GP)    NaN\n",
       "3  1990  General practitioner (GP)   75.4\n",
       "4  2000  General practitioner (GP)   75.6"
      ]
     },
     "execution_count": 131,
     "metadata": {},
     "output_type": "execute_result"
    }
   ],
   "source": [
    "transposed_df = health_contacts_df.transpose()\n",
    "transposed_df = transposed_df.drop('unit')\n",
    "transposed_df['year'] = transposed_df.index.astype(int)\n",
    "long_df = pd.melt(transposed_df, id_vars='year')\n",
    "long_df['value'] = long_df['value'].astype(float)\n",
    "long_df.head()"
   ]
  },
  {
   "cell_type": "code",
   "execution_count": 133,
   "id": "6e9656f3-397a-444b-bae5-aa997396927e",
   "metadata": {},
   "outputs": [
    {
     "name": "stderr",
     "output_type": "stream",
     "text": [
      "/Users/svenvanderburg/miniforge3/envs/teaching/lib/python3.9/site-packages/plotnine/geoms/geom_path.py:75: PlotnineWarning: geom_path: Removed 4 rows containing missing values.\n"
     ]
    },
    {
     "data": {
      "image/png": "[encoded data removed]",
      "text/plain": [
       "<Figure size 300x600 with 1 Axes>"
      ]
     },
     "metadata": {},
     "output_type": "display_data"
    },
    {
     "data": {
      "text/plain": [
       "<ggplot: (707582745)>"
      ]
     },
     "execution_count": 133,
     "metadata": {},
     "output_type": "execute_result"
    }
   ],
   "source": [
    "(p9.ggplot(data=long_df,\n",
    "           mapping=p9.aes(x='year', y='value', color='Topic'))\n",
    "    + p9.geom_line()\n",
    "    + p9.theme(figure_size=(3, 6))\n",
    "    + p9.xlim([1990, 2021])\n",
    "    + p9.ylim([0,100])\n",
    "    + p9.ylab('Percentage of people in contact with health professional')\n",
    ")"
   ]
  },
  {
   "cell_type": "markdown",
   "id": "71383f28-5384-4836-83cc-cbebf8c4a893",
   "metadata": {},
   "source": [
    "Other questions:\n",
    "* Write a function that only keeps the last part of the index names (i.e. splitting on '|')\n",
    "* Hypothesis: Proportion of HIV-infected people that develop AIDS has declined over the years.\n",
    "* Population, live born children, deaths over the years (including 2022). Missing data!\n",
    "* Expenditure. See if mortality / persons in (very) good health correlate to healthcare costs. Costs as a percentage of the GDP. Life expectancy\n",
    "* Merge with some other data"
   ]
  },
  {
   "cell_type": "code",
   "execution_count": null,
   "id": "f83c4066-8b4e-4d84-9eb3-f3d6ddba4f45",
   "metadata": {},
   "outputs": [],
   "source": []
  }
 ],
 "metadata": {
  "kernelspec": {
   "display_name": "Python 3 (ipykernel)",
   "language": "python",
   "name": "python3"
  },
  "language_info": {
   "codemirror_mode": {
    "name": "ipython",
    "version": 3
   },
   "file_extension": ".py",
   "mimetype": "text/x-python",
   "name": "python",
   "nbconvert_exporter": "python",
   "pygments_lexer": "ipython3",
   "version": "3.9.0"
  }
 },
 "nbformat": 4,
 "nbformat_minor": 5
}
