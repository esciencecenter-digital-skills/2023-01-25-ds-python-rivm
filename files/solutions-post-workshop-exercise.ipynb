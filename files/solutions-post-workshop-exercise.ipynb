{
 "cells": [
  {
   "cell_type": "markdown",
   "id": "b5912544-0996-4b78-8c71-1dc91080f5f7",
   "metadata": {},
   "source": [
    "# Post-workshop exercise\n",
    "We hope that after completing this exercise you have an idea of what it takes to analyse and visualize real-world data in python and that you can apply the learned skills to your own projects. \n",
    "For this exercise we use the 'health, lifestyle, health care use and supply, causes of death; from 1900' dataset from CBS opendata. \n",
    "This is quite a challenging dataset to work with. \n",
    "That is on purpose, we want this exercise to resemble your daily work as much as possible.\n",
    "\n",
    "You can get a visual overview of the data [here]( https://opendata.cbs.nl/statline/#/CBS/en/dataset/37852eng/table?ts=1671446345991). \n",
    "For this exercise please use [this csv file](https://raw.githubusercontent.com/esciencecenter-digital-skills/2023-01-25-ds-python-rivm/data/Health__lifestyle__health_care_use_and_supply__causes_of_death__from_1900_21122022_143458.csv)\n",
    ", right-click and click 'save as' to download it to your computer. \n",
    "We slightly adapted the format of the data so that it is easier to read into pandas. \n",
    "\n",
    "We want you to learn as much as possible from this exercise. \n",
    "If you are stuck for longer than 10 minutes, just have a look at [the solution notebook](https://github.com/esciencecenter-digital-skills/2023-01-25-ds-python-rivm/blob/main/files/solutions-post-workshop-exercise.ipynb). \n",
    "But do not keep the solutions next to you when going through the exercise. \n",
    "You can also ask Jurriaan (jurriaan.biesheuvel@rivm.nl), Xiaoheng (xiaoheng.huang@rivm.nl), or Markus (markus.viljanen@rivm.nl) for help. \n",
    "\n",
    "We expect you to take about 1 day to finish the exercise. See how far you get.\n",
    "\n",
    "Imagine you have the task to explore the dataset and present your findings to your colleagues in a jupyter notebook. \n",
    "So make the graphs as readable as possible, \n",
    "and put some clarifying documentation in markdown cells around your code, it is good to practice this."
   ]
  },
  {
   "cell_type": "code",
   "execution_count": 1,
   "id": "e7442ff6-88b0-4948-81bd-c8e4aa5c38db",
   "metadata": {},
   "outputs": [],
   "source": [
    "import matplotlib.pyplot as plt\n",
    "import numpy as np\n",
    "import pandas as pd\n",
    "import plotnine as p9"
   ]
  },
  {
   "cell_type": "markdown",
   "id": "7e1b1661-9303-45c1-a208-4fc230e262cc",
   "metadata": {
    "tags": []
   },
   "source": [
    "## 1. Loading the data\n",
    "1. Load the data in pandas. (Hint: check the separator that is used in the file, you can pass a different separator to `read_csv()` using the `sep` argument)\n",
    "2. Take a look at the data. As you can see, the Topic is read as a column and not as index. You can fix this by passing `index_col='Topic'` to `read_csv()`."
   ]
  },
  {
   "cell_type": "code",
   "execution_count": 2,
   "id": "0c9344ba-f0f4-49dc-bcc1-87e7923c1a1d",
   "metadata": {},
   "outputs": [
    {
     "data": {
      "text/html": [
       "<div>\n",
       "<style scoped>\n",
       "    .dataframe tbody tr th:only-of-type {\n",
       "        vertical-align: middle;\n",
       "    }\n",
       "\n",
       "    .dataframe tbody tr th {\n",
       "        vertical-align: top;\n",
       "    }\n",
       "\n",
       "    .dataframe thead th {\n",
       "        text-align: right;\n",
       "    }\n",
       "</style>\n",
       "<table border=\"1\" class=\"dataframe\">\n",
       "  <thead>\n",
       "    <tr style=\"text-align: right;\">\n",
       "      <th></th>\n",
       "      <th>Unnamed: 1</th>\n",
       "      <th>1900</th>\n",
       "      <th>1940</th>\n",
       "      <th>1980</th>\n",
       "      <th>1990</th>\n",
       "      <th>2000</th>\n",
       "      <th>2010</th>\n",
       "      <th>2019</th>\n",
       "      <th>2020</th>\n",
       "      <th>2021</th>\n",
       "      <th>2022</th>\n",
       "    </tr>\n",
       "    <tr>\n",
       "      <th>Topic</th>\n",
       "      <th></th>\n",
       "      <th></th>\n",
       "      <th></th>\n",
       "      <th></th>\n",
       "      <th></th>\n",
       "      <th></th>\n",
       "      <th></th>\n",
       "      <th></th>\n",
       "      <th></th>\n",
       "      <th></th>\n",
       "      <th></th>\n",
       "    </tr>\n",
       "  </thead>\n",
       "  <tbody>\n",
       "    <tr>\n",
       "      <th>Demographic key figures|Population on January 1</th>\n",
       "      <td>x 1 000</td>\n",
       "      <td>5104</td>\n",
       "      <td>8834</td>\n",
       "      <td>14091</td>\n",
       "      <td>14893</td>\n",
       "      <td>15864</td>\n",
       "      <td>16575</td>\n",
       "      <td>17282</td>\n",
       "      <td>17408</td>\n",
       "      <td>17475</td>\n",
       "      <td>17591</td>\n",
       "    </tr>\n",
       "    <tr>\n",
       "      <th>Demographic key figures|Live born children</th>\n",
       "      <td>x 1 000</td>\n",
       "      <td>163</td>\n",
       "      <td>185</td>\n",
       "      <td>181</td>\n",
       "      <td>198</td>\n",
       "      <td>207</td>\n",
       "      <td>184</td>\n",
       "      <td>170</td>\n",
       "      <td>169</td>\n",
       "      <td>179</td>\n",
       "      <td>.</td>\n",
       "    </tr>\n",
       "    <tr>\n",
       "      <th>Demographic key figures|Deaths</th>\n",
       "      <td>x 1 000</td>\n",
       "      <td>92</td>\n",
       "      <td>88</td>\n",
       "      <td>114</td>\n",
       "      <td>129</td>\n",
       "      <td>141</td>\n",
       "      <td>136</td>\n",
       "      <td>152</td>\n",
       "      <td>169</td>\n",
       "      <td>171</td>\n",
       "      <td>.</td>\n",
       "    </tr>\n",
       "    <tr>\n",
       "      <th>Health status|Persons in (very) good health</th>\n",
       "      <td>%</td>\n",
       "      <td>.</td>\n",
       "      <td>.</td>\n",
       "      <td>.</td>\n",
       "      <td>81.7</td>\n",
       "      <td>80.4</td>\n",
       "      <td>80.3</td>\n",
       "      <td>78.7</td>\n",
       "      <td>81.5</td>\n",
       "      <td>80.5</td>\n",
       "      <td>.</td>\n",
       "    </tr>\n",
       "    <tr>\n",
       "      <th>Health status|Persons with complete dentures</th>\n",
       "      <td>%</td>\n",
       "      <td>.</td>\n",
       "      <td>.</td>\n",
       "      <td>.</td>\n",
       "      <td>23.7</td>\n",
       "      <td>15.7</td>\n",
       "      <td>.</td>\n",
       "      <td>.</td>\n",
       "      <td>.</td>\n",
       "      <td>.</td>\n",
       "      <td>.</td>\n",
       "    </tr>\n",
       "  </tbody>\n",
       "</table>\n",
       "</div>"
      ],
      "text/plain": [
       "                                                Unnamed: 1  1900  1940   1980  \\\n",
       "Topic                                                                           \n",
       "Demographic key figures|Population on January 1    x 1 000  5104  8834  14091   \n",
       "Demographic key figures|Live born children         x 1 000   163   185    181   \n",
       "Demographic key figures|Deaths                     x 1 000    92    88    114   \n",
       "Health status|Persons in (very) good health              %     .     .      .   \n",
       "Health status|Persons with complete dentures             %     .     .      .   \n",
       "\n",
       "                                                  1990   2000   2010   2019  \\\n",
       "Topic                                                                         \n",
       "Demographic key figures|Population on January 1  14893  15864  16575  17282   \n",
       "Demographic key figures|Live born children         198    207    184    170   \n",
       "Demographic key figures|Deaths                     129    141    136    152   \n",
       "Health status|Persons in (very) good health       81.7   80.4   80.3   78.7   \n",
       "Health status|Persons with complete dentures      23.7   15.7      .      .   \n",
       "\n",
       "                                                  2020   2021   2022  \n",
       "Topic                                                                 \n",
       "Demographic key figures|Population on January 1  17408  17475  17591  \n",
       "Demographic key figures|Live born children         169    179      .  \n",
       "Demographic key figures|Deaths                     169    171      .  \n",
       "Health status|Persons in (very) good health       81.5   80.5      .  \n",
       "Health status|Persons with complete dentures         .      .      .  "
      ]
     },
     "execution_count": 2,
     "metadata": {},
     "output_type": "execute_result"
    }
   ],
   "source": [
    "filepath = '../data/Health__lifestyle__health_care_use_and_supply__causes_of_death__from_1900_21122022_143458.csv'\n",
    "df = pd.read_csv(filepath, sep=';', index_col='Topic')\n",
    "df.head()"
   ]
  },
  {
   "cell_type": "markdown",
   "id": "6c68c8a8-12bc-42a9-a601-0915eb37b719",
   "metadata": {},
   "source": [
    "## 2. Cleaning up the data\n",
    "1. Take a look at the data. How are missing data represented?\n",
    "2. Replace the value that is used for missing data with NaN. (hint: You can replace values using DataFrame.replace(). You can use numpy.nan to represent NaN values)\n",
    "3. Rename the 'Unnamed: 1' column to 'unit'\n",
    "4. What is the datatype of the numerical values?\n",
    "5. Convert all data in the numerical columns (all columns excluding 'unit') to the 'float' datatype. Use a for-loop to loop over all the numerical columns. Change for a specific column inside the body of the for-loop."
   ]
  },
  {
   "cell_type": "code",
   "execution_count": 3,
   "id": "67153b90-341b-455e-8b7f-d07ec713e5c8",
   "metadata": {},
   "outputs": [],
   "source": [
    "# Missing data are represented as dots, to replace:\n",
    "df = df.replace('.', np.nan)"
   ]
  },
  {
   "cell_type": "code",
   "execution_count": 4,
   "id": "e7c7f78f-33bd-4db8-a9e5-c59ecca38f2d",
   "metadata": {},
   "outputs": [],
   "source": [
    "df = df.rename(columns={'Unnamed: 1': 'unit'})"
   ]
  },
  {
   "cell_type": "code",
   "execution_count": 5,
   "id": "91534938-a12d-4dbb-b806-36a0cf121b53",
   "metadata": {},
   "outputs": [
    {
     "data": {
      "text/plain": [
       "unit    object\n",
       "1900    object\n",
       "1940    object\n",
       "1980    object\n",
       "1990    object\n",
       "2000    object\n",
       "2010    object\n",
       "2019    object\n",
       "2020    object\n",
       "2021    object\n",
       "2022    object\n",
       "dtype: object"
      ]
     },
     "execution_count": 5,
     "metadata": {},
     "output_type": "execute_result"
    }
   ],
   "source": [
    "# Data types\n",
    "df.dtypes"
   ]
  },
  {
   "cell_type": "code",
   "execution_count": 6,
   "id": "8e3fbe0e-56cd-471b-83d9-bc463b746db3",
   "metadata": {},
   "outputs": [],
   "source": [
    "# Convert data types for numerical columns to float\n",
    "for column in ['1900', '1940', '1980', '1990', '2000', '2010', '2019', '2020', '2021', '2022']:\n",
    " df[column] = df[column].astype('float')"
   ]
  },
  {
   "cell_type": "markdown",
   "id": "2188bf49-9ace-4269-ae27-4d6a4e18e6c0",
   "metadata": {},
   "source": [
    "## 3. Getting an overview of the data\n",
    "The dataset is quite large, or at least there are a lot of different topics in there. The topics are organized in a nested way, for example: 'Use of health care services|Contacts with health professionals|Dentist' consists of 3 levels: 'Use of health care services' (level 1) 'Contacts with health professionals' (level 2) 'Dentist' (level 3). We will write some functions to create a better overview of the dataset and get quicker access to the different topics of our interest.\n",
    "1. First figure out how to get the level 1 topic from a full topic description. Create a new variable called topic: `topic = 'level 1| level 2 | level 3'`. Use the [`str.split`](https://www.w3schools.com/python/ref_string_split.asp) function and list indexing to get just the level 1 part of the string.\n",
    "2. Create a function that returns a list with just the seven level 1 topics in the dataset. Hint 1: use your answer from the previous question. Hint 2: You can loop over the topics in the dataframe by doing `for topic in df.index:`.\n",
    "3. Look at the code below. What does it do? Try it out! For example with `subset_data_starting_with(df, 'Use of health care services'`. Copy these functions to your notebook, it will be very handy for the next questions!\n",
    "\n",
    "```python\n",
    "def subset_data_starting_with(df, pattern):\n",
    "    mask = df.index.str.startswith(pattern)\n",
    "    subset = df.iloc[mask].copy()\n",
    "    return subset\n",
    "\n",
    "def rename_to_last_level(df):\n",
    "    mapper = dict()\n",
    "    for topic in df.index:\n",
    "        mapper[topic] = topic.split('|')[-1]\n",
    "    df = df.rename(index=mapper)\n",
    "    return df\n",
    "```"
   ]
  },
  {
   "cell_type": "code",
   "execution_count": 7,
   "id": "eceeb0be-c12e-4d22-bd87-dae39d12d24b",
   "metadata": {},
   "outputs": [
    {
     "data": {
      "text/plain": [
       "'level 1'"
      ]
     },
     "execution_count": 7,
     "metadata": {},
     "output_type": "execute_result"
    }
   ],
   "source": [
    "topic = 'level 1| level 2 | level 3'\n",
    "topic.split('|')[0]"
   ]
  },
  {
   "cell_type": "code",
   "execution_count": 8,
   "id": "8513d3e6-8b13-4499-b94d-15740ef7cfb3",
   "metadata": {},
   "outputs": [
    {
     "data": {
      "text/plain": [
       "['Demographic key figures',\n",
       " 'Health status',\n",
       " 'Lifestyle',\n",
       " 'Use of health care services',\n",
       " 'Care supply',\n",
       " 'Birth and life expectancy',\n",
       " 'Causes of death']"
      ]
     },
     "execution_count": 8,
     "metadata": {},
     "output_type": "execute_result"
    }
   ],
   "source": [
    "def get_level_1_topics(df):\n",
    "    level_1_topics = list()\n",
    "    for topic in df.index:\n",
    "        level_1_topic = topic.split('|')[0]\n",
    "        if level_1_topic not in level_1_topics:\n",
    "            level_1_topics.append(level_1_topic)\n",
    "    return level_1_topics\n",
    "get_level_1_topics(df)"
   ]
  },
  {
   "cell_type": "code",
   "execution_count": 9,
   "id": "2f33641b-e8cf-44ba-91a4-c8824ef1a0b4",
   "metadata": {},
   "outputs": [],
   "source": [
    "def subset_data_starting_with(df, pattern):\n",
    "    mask = df.index.str.startswith(pattern)\n",
    "    subset = df.iloc[mask].copy()\n",
    "    return subset\n",
    "\n",
    "def rename_to_last_level(df):\n",
    "    mapper = dict()\n",
    "    for topic in df.index:\n",
    "        mapper[topic] = topic.split('|')[-1]\n",
    "    df = df.rename(index=mapper)\n",
    "    return df"
   ]
  },
  {
   "cell_type": "code",
   "execution_count": 10,
   "id": "1754c0ad-b223-4071-aebf-54ac4cfe4ee1",
   "metadata": {},
   "outputs": [
    {
     "data": {
      "text/html": [
       "<div>\n",
       "<style scoped>\n",
       "    .dataframe tbody tr th:only-of-type {\n",
       "        vertical-align: middle;\n",
       "    }\n",
       "\n",
       "    .dataframe tbody tr th {\n",
       "        vertical-align: top;\n",
       "    }\n",
       "\n",
       "    .dataframe thead th {\n",
       "        text-align: right;\n",
       "    }\n",
       "</style>\n",
       "<table border=\"1\" class=\"dataframe\">\n",
       "  <thead>\n",
       "    <tr style=\"text-align: right;\">\n",
       "      <th></th>\n",
       "      <th>unit</th>\n",
       "      <th>1900</th>\n",
       "      <th>1940</th>\n",
       "      <th>1980</th>\n",
       "      <th>1990</th>\n",
       "      <th>2000</th>\n",
       "      <th>2010</th>\n",
       "      <th>2019</th>\n",
       "      <th>2020</th>\n",
       "      <th>2021</th>\n",
       "      <th>2022</th>\n",
       "    </tr>\n",
       "    <tr>\n",
       "      <th>Topic</th>\n",
       "      <th></th>\n",
       "      <th></th>\n",
       "      <th></th>\n",
       "      <th></th>\n",
       "      <th></th>\n",
       "      <th></th>\n",
       "      <th></th>\n",
       "      <th></th>\n",
       "      <th></th>\n",
       "      <th></th>\n",
       "      <th></th>\n",
       "    </tr>\n",
       "  </thead>\n",
       "  <tbody>\n",
       "    <tr>\n",
       "      <th>Use of health care services|Contacts with health professionals|General practitioner (GP)</th>\n",
       "      <td>%</td>\n",
       "      <td>NaN</td>\n",
       "      <td>NaN</td>\n",
       "      <td>NaN</td>\n",
       "      <td>75.4</td>\n",
       "      <td>75.6</td>\n",
       "      <td>72.3</td>\n",
       "      <td>68.7</td>\n",
       "      <td>64.8</td>\n",
       "      <td>62.1</td>\n",
       "      <td>NaN</td>\n",
       "    </tr>\n",
       "    <tr>\n",
       "      <th>Use of health care services|Contacts with health professionals|Medical specialist</th>\n",
       "      <td>%</td>\n",
       "      <td>NaN</td>\n",
       "      <td>NaN</td>\n",
       "      <td>NaN</td>\n",
       "      <td>41.0</td>\n",
       "      <td>38.0</td>\n",
       "      <td>37.8</td>\n",
       "      <td>39.9</td>\n",
       "      <td>36.4</td>\n",
       "      <td>37.2</td>\n",
       "      <td>NaN</td>\n",
       "    </tr>\n",
       "    <tr>\n",
       "      <th>Use of health care services|Contacts with health professionals|Dentist</th>\n",
       "      <td>%</td>\n",
       "      <td>NaN</td>\n",
       "      <td>NaN</td>\n",
       "      <td>NaN</td>\n",
       "      <td>71.3</td>\n",
       "      <td>78.2</td>\n",
       "      <td>78.4</td>\n",
       "      <td>80.4</td>\n",
       "      <td>78.8</td>\n",
       "      <td>79.2</td>\n",
       "      <td>NaN</td>\n",
       "    </tr>\n",
       "    <tr>\n",
       "      <th>Use of health care services|Contacts with health professionals|Physiotherapist or exercise therapist</th>\n",
       "      <td>%</td>\n",
       "      <td>NaN</td>\n",
       "      <td>NaN</td>\n",
       "      <td>NaN</td>\n",
       "      <td>14.3</td>\n",
       "      <td>16.2</td>\n",
       "      <td>22.0</td>\n",
       "      <td>26.5</td>\n",
       "      <td>25.7</td>\n",
       "      <td>25.4</td>\n",
       "      <td>NaN</td>\n",
       "    </tr>\n",
       "    <tr>\n",
       "      <th>Use of health care services|Contacts with health professionals|Alternative healer</th>\n",
       "      <td>%</td>\n",
       "      <td>NaN</td>\n",
       "      <td>NaN</td>\n",
       "      <td>NaN</td>\n",
       "      <td>5.9</td>\n",
       "      <td>5.9</td>\n",
       "      <td>5.8</td>\n",
       "      <td>4.3</td>\n",
       "      <td>5.2</td>\n",
       "      <td>5.1</td>\n",
       "      <td>NaN</td>\n",
       "    </tr>\n",
       "  </tbody>\n",
       "</table>\n",
       "</div>"
      ],
      "text/plain": [
       "                                                   unit  1900  1940  1980  \\\n",
       "Topic                                                                       \n",
       "Use of health care services|Contacts with healt...    %   NaN   NaN   NaN   \n",
       "Use of health care services|Contacts with healt...    %   NaN   NaN   NaN   \n",
       "Use of health care services|Contacts with healt...    %   NaN   NaN   NaN   \n",
       "Use of health care services|Contacts with healt...    %   NaN   NaN   NaN   \n",
       "Use of health care services|Contacts with healt...    %   NaN   NaN   NaN   \n",
       "\n",
       "                                                    1990  2000  2010  2019  \\\n",
       "Topic                                                                        \n",
       "Use of health care services|Contacts with healt...  75.4  75.6  72.3  68.7   \n",
       "Use of health care services|Contacts with healt...  41.0  38.0  37.8  39.9   \n",
       "Use of health care services|Contacts with healt...  71.3  78.2  78.4  80.4   \n",
       "Use of health care services|Contacts with healt...  14.3  16.2  22.0  26.5   \n",
       "Use of health care services|Contacts with healt...   5.9   5.9   5.8   4.3   \n",
       "\n",
       "                                                    2020  2021  2022  \n",
       "Topic                                                                 \n",
       "Use of health care services|Contacts with healt...  64.8  62.1   NaN  \n",
       "Use of health care services|Contacts with healt...  36.4  37.2   NaN  \n",
       "Use of health care services|Contacts with healt...  78.8  79.2   NaN  \n",
       "Use of health care services|Contacts with healt...  25.7  25.4   NaN  \n",
       "Use of health care services|Contacts with healt...   5.2   5.1   NaN  "
      ]
     },
     "execution_count": 10,
     "metadata": {},
     "output_type": "execute_result"
    }
   ],
   "source": [
    "# Takes a subset of the data with topics starting with the pattern\n",
    "subset = subset_data_starting_with(df, 'Use of health care services|Contacts with health professionals')\n",
    "subset"
   ]
  },
  {
   "cell_type": "code",
   "execution_count": 11,
   "id": "127112d6-28ec-4f71-b8c7-d8d317910d76",
   "metadata": {},
   "outputs": [
    {
     "data": {
      "text/html": [
       "<div>\n",
       "<style scoped>\n",
       "    .dataframe tbody tr th:only-of-type {\n",
       "        vertical-align: middle;\n",
       "    }\n",
       "\n",
       "    .dataframe tbody tr th {\n",
       "        vertical-align: top;\n",
       "    }\n",
       "\n",
       "    .dataframe thead th {\n",
       "        text-align: right;\n",
       "    }\n",
       "</style>\n",
       "<table border=\"1\" class=\"dataframe\">\n",
       "  <thead>\n",
       "    <tr style=\"text-align: right;\">\n",
       "      <th></th>\n",
       "      <th>unit</th>\n",
       "      <th>1900</th>\n",
       "      <th>1940</th>\n",
       "      <th>1980</th>\n",
       "      <th>1990</th>\n",
       "      <th>2000</th>\n",
       "      <th>2010</th>\n",
       "      <th>2019</th>\n",
       "      <th>2020</th>\n",
       "      <th>2021</th>\n",
       "      <th>2022</th>\n",
       "    </tr>\n",
       "    <tr>\n",
       "      <th>Topic</th>\n",
       "      <th></th>\n",
       "      <th></th>\n",
       "      <th></th>\n",
       "      <th></th>\n",
       "      <th></th>\n",
       "      <th></th>\n",
       "      <th></th>\n",
       "      <th></th>\n",
       "      <th></th>\n",
       "      <th></th>\n",
       "      <th></th>\n",
       "    </tr>\n",
       "  </thead>\n",
       "  <tbody>\n",
       "    <tr>\n",
       "      <th>General practitioner (GP)</th>\n",
       "      <td>%</td>\n",
       "      <td>NaN</td>\n",
       "      <td>NaN</td>\n",
       "      <td>NaN</td>\n",
       "      <td>75.4</td>\n",
       "      <td>75.6</td>\n",
       "      <td>72.3</td>\n",
       "      <td>68.7</td>\n",
       "      <td>64.8</td>\n",
       "      <td>62.1</td>\n",
       "      <td>NaN</td>\n",
       "    </tr>\n",
       "    <tr>\n",
       "      <th>Medical specialist</th>\n",
       "      <td>%</td>\n",
       "      <td>NaN</td>\n",
       "      <td>NaN</td>\n",
       "      <td>NaN</td>\n",
       "      <td>41.0</td>\n",
       "      <td>38.0</td>\n",
       "      <td>37.8</td>\n",
       "      <td>39.9</td>\n",
       "      <td>36.4</td>\n",
       "      <td>37.2</td>\n",
       "      <td>NaN</td>\n",
       "    </tr>\n",
       "    <tr>\n",
       "      <th>Dentist</th>\n",
       "      <td>%</td>\n",
       "      <td>NaN</td>\n",
       "      <td>NaN</td>\n",
       "      <td>NaN</td>\n",
       "      <td>71.3</td>\n",
       "      <td>78.2</td>\n",
       "      <td>78.4</td>\n",
       "      <td>80.4</td>\n",
       "      <td>78.8</td>\n",
       "      <td>79.2</td>\n",
       "      <td>NaN</td>\n",
       "    </tr>\n",
       "    <tr>\n",
       "      <th>Physiotherapist or exercise therapist</th>\n",
       "      <td>%</td>\n",
       "      <td>NaN</td>\n",
       "      <td>NaN</td>\n",
       "      <td>NaN</td>\n",
       "      <td>14.3</td>\n",
       "      <td>16.2</td>\n",
       "      <td>22.0</td>\n",
       "      <td>26.5</td>\n",
       "      <td>25.7</td>\n",
       "      <td>25.4</td>\n",
       "      <td>NaN</td>\n",
       "    </tr>\n",
       "    <tr>\n",
       "      <th>Alternative healer</th>\n",
       "      <td>%</td>\n",
       "      <td>NaN</td>\n",
       "      <td>NaN</td>\n",
       "      <td>NaN</td>\n",
       "      <td>5.9</td>\n",
       "      <td>5.9</td>\n",
       "      <td>5.8</td>\n",
       "      <td>4.3</td>\n",
       "      <td>5.2</td>\n",
       "      <td>5.1</td>\n",
       "      <td>NaN</td>\n",
       "    </tr>\n",
       "  </tbody>\n",
       "</table>\n",
       "</div>"
      ],
      "text/plain": [
       "                                      unit  1900  1940  1980  1990  2000  \\\n",
       "Topic                                                                      \n",
       "General practitioner (GP)                %   NaN   NaN   NaN  75.4  75.6   \n",
       "Medical specialist                       %   NaN   NaN   NaN  41.0  38.0   \n",
       "Dentist                                  %   NaN   NaN   NaN  71.3  78.2   \n",
       "Physiotherapist or exercise therapist    %   NaN   NaN   NaN  14.3  16.2   \n",
       "Alternative healer                       %   NaN   NaN   NaN   5.9   5.9   \n",
       "\n",
       "                                       2010  2019  2020  2021  2022  \n",
       "Topic                                                                \n",
       "General practitioner (GP)              72.3  68.7  64.8  62.1   NaN  \n",
       "Medical specialist                     37.8  39.9  36.4  37.2   NaN  \n",
       "Dentist                                78.4  80.4  78.8  79.2   NaN  \n",
       "Physiotherapist or exercise therapist  22.0  26.5  25.7  25.4   NaN  \n",
       "Alternative healer                      5.8   4.3   5.2   5.1   NaN  "
      ]
     },
     "execution_count": 11,
     "metadata": {},
     "output_type": "execute_result"
    }
   ],
   "source": [
    "# Renames the topic to just the last level of the topic\n",
    "subset = rename_to_last_level(subset)\n",
    "subset"
   ]
  },
  {
   "cell_type": "markdown",
   "id": "f42eb94e-a473-4bee-b709-a7aff1cd96f6",
   "metadata": {
    "tags": []
   },
   "source": [
    "## 4. Plotting contacts with health professionals\n",
    "We will look at the 'Use of health care services|Contacts with health professionals' data. We want to get a visual overview of how many people have contact with health professionals. But first, it's good to note that this is an aggregated dataset. Each value in the table actually comes from aggregating data of a lot of individuals. This is different from the dataset used in the course where every row corresponded with a single captured animal, and we had to aggregate it to plot. \n",
    "\n",
    "To help ourselves in plotting the data we will convert the data to the so-called 'long format' (you can read more about this [here](https://datacarpentry.org/python-socialsci/12-long-and-wide/index.html)). If you don't fully grasp it yet that's not a problem, just see it as a transformation of the data into a format that is handy for plotting. Here is the code for transforming our dataset to long format:\n",
    "\n",
    "```python\n",
    "def to_long_format(df):\n",
    "    \"\"\"\n",
    "    Transforms the CBS health, lifestyle and causes of death dataset into \n",
    "    'long' format. In addition, drops the 'unit' column, and changes 'year'\n",
    "    dtype to int.\n",
    "    \"\"\"\n",
    "    df = df.drop(columns='unit')\n",
    "    df['Topic'] = df.index # pd.melt cannot use the index so we have to create a column for it\n",
    "    long_df = pd.melt(df, id_vars='Topic', var_name='year') \n",
    "    long_df['year'] = long_df['year'].astype(int)\n",
    "    return long_df\n",
    "```\n",
    "1. Inspect the `to_long_format()` function. Compare the dataframes before and after passing it to the function. Can you make sense of what's happening and why?\n",
    "2. Create a linegraph that shows the percentage of people having contact with a health professional for each category over time. The different categories (General practitioner (GP), Medical specialist, Dentist, Physiotherapist or exercise therapist, and Alternative healer) should show as different colored lines in the linegraph. Hint: Use the functions we defined previously to select the data, and transform it to long format. \n",
    "3. Create a bargraph that shows the percentage of people having contact with a health professional for each category (General practitioner (GP), Medical specialist, Dentist, Physiotherapist or exercise therapist, and Alternative healer) in **2021**. Hint: plotnine by default wants to plot the count of the values you pass it. Since our data is already aggregated we want to plot the actual values. You can do that by passing `stat='identity'` to the `geom_bar` function.\n"
   ]
  },
  {
   "cell_type": "code",
   "execution_count": 12,
   "id": "8e8fad4a-4bd8-47a4-874d-ce76ce6707df",
   "metadata": {},
   "outputs": [],
   "source": [
    "def to_long_format(df):\n",
    "    \"\"\"\n",
    "    Transforms the CBS health, lifestyle and causes of death dataset into \n",
    "    'long' format. In addition, drops the 'unit' column, and changes 'year'\n",
    "    dtype to int.\n",
    "    \"\"\"\n",
    "    df = df.drop(columns='unit')\n",
    "    df['Topic'] = df.index # pd.melt cannot use the index so we have to create a column for it\n",
    "    long_df = pd.melt(df, id_vars='Topic', var_name='year') \n",
    "    long_df['year'] = long_df['year'].astype(int)\n",
    "    return long_df"
   ]
  },
  {
   "cell_type": "code",
   "execution_count": 13,
   "id": "44fec91d-7a0f-4891-b327-2262720d3642",
   "metadata": {},
   "outputs": [],
   "source": [
    "# Select the right subset of the data\n",
    "health_contacts_df = subset_data_starting_with(df, 'Use of health care services|Contacts with health professionals')\n",
    "\n",
    "# Rename to level 3 topics\n",
    "health_contacts_df = rename_to_last_level(health_contacts_df)\n",
    "\n",
    "# Transform to long format\n",
    "health_contacts_df = to_long_format(health_contacts_df)"
   ]
  },
  {
   "cell_type": "code",
   "execution_count": 14,
   "id": "6e9656f3-397a-444b-bae5-aa997396927e",
   "metadata": {},
   "outputs": [
    {
     "name": "stderr",
     "output_type": "stream",
     "text": [
      "/Users/svenvanderburg/miniforge3/envs/teaching/lib/python3.9/site-packages/plotnine/geoms/geom_path.py:75: PlotnineWarning: geom_path: Removed 4 rows containing missing values.\n"
     ]
    },
    {
     "data": {
      "image/png": "[encoded data removed]",
      "text/plain": [
       "<Figure size 300x600 with 1 Axes>"
      ]
     },
     "metadata": {},
     "output_type": "display_data"
    },
    {
     "data": {
      "text/plain": [
       "<ggplot: (697074204)>"
      ]
     },
     "execution_count": 14,
     "metadata": {},
     "output_type": "execute_result"
    }
   ],
   "source": [
    "(p9.ggplot(data=health_contacts_df,\n",
    "           mapping=p9.aes(x='year', y='value', color='Topic'))\n",
    "    + p9.geom_line()\n",
    "    + p9.theme(figure_size=(3, 6))\n",
    "    + p9.xlim([1990, 2021])\n",
    "    + p9.ylim([0,100])\n",
    "    + p9.ylab('Percentage of people in contact with health professional')\n",
    ")"
   ]
  },
  {
   "cell_type": "code",
   "execution_count": 15,
   "id": "fa24e28d-3d86-4bdb-b9f9-0cf06e309afd",
   "metadata": {},
   "outputs": [
    {
     "data": {
      "image/png": "[encoded data removed]",
      "text/plain": [
       "<Figure size 300x600 with 1 Axes>"
      ]
     },
     "metadata": {},
     "output_type": "display_data"
    },
    {
     "data": {
      "text/plain": [
       "<ggplot: (697209326)>"
      ]
     },
     "execution_count": 15,
     "metadata": {},
     "output_type": "execute_result"
    }
   ],
   "source": [
    "(p9.ggplot(data=health_contacts_df[health_contacts_df['year'] == 2021],\n",
    "           mapping=p9.aes(x='Topic', y='value'))\n",
    "    + p9.geom_bar(stat='identity')\n",
    "    + p9.theme(axis_text_x=p9.element_text(angle=90))\n",
    "    + p9.ylab(\"Percentage of people that see:\")\n",
    "    + p9.ylim([0,100])\n",
    "    + p9.theme(figure_size=(3, 6))\n",
    ")"
   ]
  },
  {
   "cell_type": "markdown",
   "id": "cf2d3feb-c64b-4ed6-a88c-538d90f3fc0b",
   "metadata": {},
   "source": [
    "## 5. AIDS/HIV\n",
    "We will now look at how the number of people infected with HIV and the number of people that developed AIDS developed over the years.\n",
    "1. Make a lineplot with the years on the x-axis and the number of notifications on the y-axis. One line should represent the number of people that developed AIDS and the other line the number of HIV-infected people."
   ]
  },
  {
   "cell_type": "code",
   "execution_count": 16,
   "id": "0480736b-da65-4e21-a84a-14082b0b1a19",
   "metadata": {},
   "outputs": [],
   "source": [
    "# Select the right subset of the data\n",
    "aids_df = subset_data_starting_with(df, 'Health status|Occurrence of infectious diseases|AIDS/HIV')\n",
    "\n",
    "# Rename to last level topics\n",
    "aids_df = rename_to_last_level(aids_df)\n",
    "\n",
    "# Transform to long format\n",
    "aids_df = to_long_format(aids_df)"
   ]
  },
  {
   "cell_type": "code",
   "execution_count": 17,
   "id": "792de111-f90a-432b-9d8f-9ec011898833",
   "metadata": {},
   "outputs": [
    {
     "name": "stderr",
     "output_type": "stream",
     "text": [
      "/Users/svenvanderburg/miniforge3/envs/teaching/lib/python3.9/site-packages/plotnine/geoms/geom_path.py:75: PlotnineWarning: geom_path: Removed 4 rows containing missing values.\n"
     ]
    },
    {
     "data": {
      "image/png": "[encoded data removed]",
      "text/plain": [
       "<Figure size 600x300 with 1 Axes>"
      ]
     },
     "metadata": {},
     "output_type": "display_data"
    },
    {
     "data": {
      "text/plain": [
       "<ggplot: (697246678)>"
      ]
     },
     "execution_count": 17,
     "metadata": {},
     "output_type": "execute_result"
    }
   ],
   "source": [
    "(p9.ggplot(data=aids_df,\n",
    "           mapping=p9.aes(x='year', y='value', color='Topic'))\n",
    "    + p9.geom_line()\n",
    "    + p9.theme(figure_size=(6, 3))\n",
    "    + p9.xlim([1990, 2021])\n",
    "    + p9.ylab('Number of notifications')\n",
    ")"
   ]
  },
  {
   "cell_type": "markdown",
   "id": "e5a8c021-7c78-42ea-8987-932839de855e",
   "metadata": {},
   "source": [
    "## 6. Health costs\n",
    "One would expect that the percentage of people in good health would increase when the costs of our health system go up, is that true?\n",
    "1. Take a look at the values for 'Care supply|Expenditures on care|Costs as a percentage of the GDP' and 'Health status|Persons in (very) good health'. What do you notice? Hint: You can still use `subset_data_starting_with()` and use `pandas.concat()` to concatenate dataframes.\n",
    "2. Create a lineplot with the years on the x-axis and percentage y-axis. One line should represent the health costs as a percentage of the GDP, while the other line should show the percentage of people in (very) good health. Is this a good way of visualizing the data?\n",
    "3. One way to visualize this data in a better way is to index it based on 1990. We make the values in 1990 100, and then for later years take the value relative to the value in 1990. So to calculate the indexed costs in 2000:\n",
    "```python\n",
    "costs_1990 = 10.9\n",
    "costs_2000 = 10.0\n",
    "indexed_costs_2000 = costs_2000 / 10.9 * 100\n",
    "```\n",
    "Calculate the indexed data and plot it in a lineplot. Hint: It is best to do the indexing operation before transforming the data to long format."
   ]
  },
  {
   "cell_type": "code",
   "execution_count": 18,
   "id": "5973e171-26ab-4498-9239-1dace26d3b2c",
   "metadata": {},
   "outputs": [],
   "source": [
    "# Select the right subsets of the data\n",
    "df1 = subset_data_starting_with(df, 'Care supply|Expenditures on care|Costs as a percentage of the GDP')\n",
    "df2 = subset_data_starting_with(df, 'Health status|Persons in (very) good health')\n",
    "\n",
    "# Concatenate the subsets\n",
    "costs_df = pd.concat([df1, df2])\n",
    "\n",
    "# Rename to last level topics\n",
    "costs_df = rename_to_last_level(costs_df)"
   ]
  },
  {
   "cell_type": "code",
   "execution_count": 19,
   "id": "581d89a6-6a69-4615-976c-a7c03f361cf8",
   "metadata": {},
   "outputs": [
    {
     "data": {
      "text/html": [
       "<div>\n",
       "<style scoped>\n",
       "    .dataframe tbody tr th:only-of-type {\n",
       "        vertical-align: middle;\n",
       "    }\n",
       "\n",
       "    .dataframe tbody tr th {\n",
       "        vertical-align: top;\n",
       "    }\n",
       "\n",
       "    .dataframe thead th {\n",
       "        text-align: right;\n",
       "    }\n",
       "</style>\n",
       "<table border=\"1\" class=\"dataframe\">\n",
       "  <thead>\n",
       "    <tr style=\"text-align: right;\">\n",
       "      <th></th>\n",
       "      <th>unit</th>\n",
       "      <th>1900</th>\n",
       "      <th>1940</th>\n",
       "      <th>1980</th>\n",
       "      <th>1990</th>\n",
       "      <th>2000</th>\n",
       "      <th>2010</th>\n",
       "      <th>2019</th>\n",
       "      <th>2020</th>\n",
       "      <th>2021</th>\n",
       "      <th>2022</th>\n",
       "    </tr>\n",
       "    <tr>\n",
       "      <th>Topic</th>\n",
       "      <th></th>\n",
       "      <th></th>\n",
       "      <th></th>\n",
       "      <th></th>\n",
       "      <th></th>\n",
       "      <th></th>\n",
       "      <th></th>\n",
       "      <th></th>\n",
       "      <th></th>\n",
       "      <th></th>\n",
       "      <th></th>\n",
       "    </tr>\n",
       "  </thead>\n",
       "  <tbody>\n",
       "    <tr>\n",
       "      <th>Costs as a percentage of the GDP</th>\n",
       "      <td>%</td>\n",
       "      <td>NaN</td>\n",
       "      <td>NaN</td>\n",
       "      <td>10.6</td>\n",
       "      <td>10.9</td>\n",
       "      <td>10.0</td>\n",
       "      <td>13.4</td>\n",
       "      <td>13.2</td>\n",
       "      <td>14.5</td>\n",
       "      <td>14.5</td>\n",
       "      <td>NaN</td>\n",
       "    </tr>\n",
       "    <tr>\n",
       "      <th>Persons in (very) good health</th>\n",
       "      <td>%</td>\n",
       "      <td>NaN</td>\n",
       "      <td>NaN</td>\n",
       "      <td>NaN</td>\n",
       "      <td>81.7</td>\n",
       "      <td>80.4</td>\n",
       "      <td>80.3</td>\n",
       "      <td>78.7</td>\n",
       "      <td>81.5</td>\n",
       "      <td>80.5</td>\n",
       "      <td>NaN</td>\n",
       "    </tr>\n",
       "  </tbody>\n",
       "</table>\n",
       "</div>"
      ],
      "text/plain": [
       "                                 unit  1900  1940  1980  1990  2000  2010  \\\n",
       "Topic                                                                       \n",
       "Costs as a percentage of the GDP    %   NaN   NaN  10.6  10.9  10.0  13.4   \n",
       "Persons in (very) good health       %   NaN   NaN   NaN  81.7  80.4  80.3   \n",
       "\n",
       "                                  2019  2020  2021  2022  \n",
       "Topic                                                     \n",
       "Costs as a percentage of the GDP  13.2  14.5  14.5   NaN  \n",
       "Persons in (very) good health     78.7  81.5  80.5   NaN  "
      ]
     },
     "execution_count": 19,
     "metadata": {},
     "output_type": "execute_result"
    }
   ],
   "source": [
    "# It seems like the costs have gone up, but the percentage of persons in good health stays on the same level\n",
    "costs_df"
   ]
  },
  {
   "cell_type": "code",
   "execution_count": 20,
   "id": "bee5654f-2a09-4eb2-9fb9-b06b200ed50f",
   "metadata": {},
   "outputs": [
    {
     "name": "stderr",
     "output_type": "stream",
     "text": [
      "/Users/svenvanderburg/miniforge3/envs/teaching/lib/python3.9/site-packages/plotnine/geoms/geom_path.py:75: PlotnineWarning: geom_path: Removed 4 rows containing missing values.\n"
     ]
    },
    {
     "data": {
      "image/png": "[encoded data removed]",
      "text/plain": [
       "<Figure size 300x600 with 1 Axes>"
      ]
     },
     "metadata": {},
     "output_type": "display_data"
    },
    {
     "data": {
      "text/plain": [
       "<ggplot: (697286650)>"
      ]
     },
     "execution_count": 20,
     "metadata": {},
     "output_type": "execute_result"
    }
   ],
   "source": [
    "long_df = to_long_format(costs_df)\n",
    "\n",
    "(p9.ggplot(data=long_df,\n",
    "           mapping=p9.aes(x='year', y='value', color='Topic'))\n",
    "    + p9.geom_line()\n",
    "    + p9.theme(figure_size=(3, 6))\n",
    "    + p9.xlim([1990, 2021])\n",
    "    + p9.ylim([0, 100])\n",
    "    + p9.ylab('Percentage')\n",
    ")"
   ]
  },
  {
   "cell_type": "code",
   "execution_count": 21,
   "id": "a534912a-f078-4a52-a789-b8a30bc965ed",
   "metadata": {},
   "outputs": [],
   "source": [
    "# Select the right subsets of the data\n",
    "df1 = subset_data_starting_with(df, 'Care supply|Expenditures on care|Costs as a percentage of the GDP')\n",
    "df2 = subset_data_starting_with(df, 'Health status|Persons in (very) good health')\n",
    "\n",
    "# Concatenate the subsets\n",
    "costs_df = pd.concat([df1, df2])\n",
    "\n",
    "# Rename to last level topics\n",
    "costs_df = rename_to_last_level(costs_df)"
   ]
  },
  {
   "cell_type": "code",
   "execution_count": 22,
   "id": "6f8722ee-a5b3-4a02-bad9-9565f78215c2",
   "metadata": {},
   "outputs": [
    {
     "data": {
      "text/html": [
       "<div>\n",
       "<style scoped>\n",
       "    .dataframe tbody tr th:only-of-type {\n",
       "        vertical-align: middle;\n",
       "    }\n",
       "\n",
       "    .dataframe tbody tr th {\n",
       "        vertical-align: top;\n",
       "    }\n",
       "\n",
       "    .dataframe thead th {\n",
       "        text-align: right;\n",
       "    }\n",
       "</style>\n",
       "<table border=\"1\" class=\"dataframe\">\n",
       "  <thead>\n",
       "    <tr style=\"text-align: right;\">\n",
       "      <th></th>\n",
       "      <th>unit</th>\n",
       "      <th>1900</th>\n",
       "      <th>1940</th>\n",
       "      <th>1980</th>\n",
       "      <th>1990</th>\n",
       "      <th>2000</th>\n",
       "      <th>2010</th>\n",
       "      <th>2019</th>\n",
       "      <th>2020</th>\n",
       "      <th>2021</th>\n",
       "      <th>2022</th>\n",
       "    </tr>\n",
       "    <tr>\n",
       "      <th>Topic</th>\n",
       "      <th></th>\n",
       "      <th></th>\n",
       "      <th></th>\n",
       "      <th></th>\n",
       "      <th></th>\n",
       "      <th></th>\n",
       "      <th></th>\n",
       "      <th></th>\n",
       "      <th></th>\n",
       "      <th></th>\n",
       "      <th></th>\n",
       "    </tr>\n",
       "  </thead>\n",
       "  <tbody>\n",
       "    <tr>\n",
       "      <th>Costs as a percentage of the GDP</th>\n",
       "      <td>%</td>\n",
       "      <td>NaN</td>\n",
       "      <td>NaN</td>\n",
       "      <td>10.6</td>\n",
       "      <td>10.9</td>\n",
       "      <td>10.0</td>\n",
       "      <td>13.4</td>\n",
       "      <td>13.2</td>\n",
       "      <td>14.5</td>\n",
       "      <td>14.5</td>\n",
       "      <td>NaN</td>\n",
       "    </tr>\n",
       "    <tr>\n",
       "      <th>Persons in (very) good health</th>\n",
       "      <td>%</td>\n",
       "      <td>NaN</td>\n",
       "      <td>NaN</td>\n",
       "      <td>NaN</td>\n",
       "      <td>81.7</td>\n",
       "      <td>80.4</td>\n",
       "      <td>80.3</td>\n",
       "      <td>78.7</td>\n",
       "      <td>81.5</td>\n",
       "      <td>80.5</td>\n",
       "      <td>NaN</td>\n",
       "    </tr>\n",
       "  </tbody>\n",
       "</table>\n",
       "</div>"
      ],
      "text/plain": [
       "                                 unit  1900  1940  1980  1990  2000  2010  \\\n",
       "Topic                                                                       \n",
       "Costs as a percentage of the GDP    %   NaN   NaN  10.6  10.9  10.0  13.4   \n",
       "Persons in (very) good health       %   NaN   NaN   NaN  81.7  80.4  80.3   \n",
       "\n",
       "                                  2019  2020  2021  2022  \n",
       "Topic                                                     \n",
       "Costs as a percentage of the GDP  13.2  14.5  14.5   NaN  \n",
       "Persons in (very) good health     78.7  81.5  80.5   NaN  "
      ]
     },
     "execution_count": 22,
     "metadata": {},
     "output_type": "execute_result"
    }
   ],
   "source": [
    "costs_df"
   ]
  },
  {
   "cell_type": "code",
   "execution_count": 23,
   "id": "ad5821b1-4796-44bf-8d08-2bc0bb20fad1",
   "metadata": {},
   "outputs": [],
   "source": [
    "# Index the data based on 1990\n",
    "for year in ['2000', '2010', '2019', '2020', '2021']:\n",
    "    costs_df[year] = costs_df[year] / costs_df['1990'] * 100\n",
    "costs_df['1990'] = 100"
   ]
  },
  {
   "cell_type": "code",
   "execution_count": 24,
   "id": "6ef1dacf-f4ea-4474-9cac-dd5184cbacd7",
   "metadata": {},
   "outputs": [
    {
     "data": {
      "text/html": [
       "<div>\n",
       "<style scoped>\n",
       "    .dataframe tbody tr th:only-of-type {\n",
       "        vertical-align: middle;\n",
       "    }\n",
       "\n",
       "    .dataframe tbody tr th {\n",
       "        vertical-align: top;\n",
       "    }\n",
       "\n",
       "    .dataframe thead th {\n",
       "        text-align: right;\n",
       "    }\n",
       "</style>\n",
       "<table border=\"1\" class=\"dataframe\">\n",
       "  <thead>\n",
       "    <tr style=\"text-align: right;\">\n",
       "      <th></th>\n",
       "      <th>unit</th>\n",
       "      <th>1900</th>\n",
       "      <th>1940</th>\n",
       "      <th>1980</th>\n",
       "      <th>1990</th>\n",
       "      <th>2000</th>\n",
       "      <th>2010</th>\n",
       "      <th>2019</th>\n",
       "      <th>2020</th>\n",
       "      <th>2021</th>\n",
       "      <th>2022</th>\n",
       "    </tr>\n",
       "    <tr>\n",
       "      <th>Topic</th>\n",
       "      <th></th>\n",
       "      <th></th>\n",
       "      <th></th>\n",
       "      <th></th>\n",
       "      <th></th>\n",
       "      <th></th>\n",
       "      <th></th>\n",
       "      <th></th>\n",
       "      <th></th>\n",
       "      <th></th>\n",
       "      <th></th>\n",
       "    </tr>\n",
       "  </thead>\n",
       "  <tbody>\n",
       "    <tr>\n",
       "      <th>Costs as a percentage of the GDP</th>\n",
       "      <td>%</td>\n",
       "      <td>NaN</td>\n",
       "      <td>NaN</td>\n",
       "      <td>10.6</td>\n",
       "      <td>100</td>\n",
       "      <td>91.743119</td>\n",
       "      <td>122.935780</td>\n",
       "      <td>121.100917</td>\n",
       "      <td>133.027523</td>\n",
       "      <td>133.027523</td>\n",
       "      <td>NaN</td>\n",
       "    </tr>\n",
       "    <tr>\n",
       "      <th>Persons in (very) good health</th>\n",
       "      <td>%</td>\n",
       "      <td>NaN</td>\n",
       "      <td>NaN</td>\n",
       "      <td>NaN</td>\n",
       "      <td>100</td>\n",
       "      <td>98.408813</td>\n",
       "      <td>98.286414</td>\n",
       "      <td>96.328029</td>\n",
       "      <td>99.755202</td>\n",
       "      <td>98.531212</td>\n",
       "      <td>NaN</td>\n",
       "    </tr>\n",
       "  </tbody>\n",
       "</table>\n",
       "</div>"
      ],
      "text/plain": [
       "                                 unit  1900  1940  1980  1990       2000  \\\n",
       "Topic                                                                      \n",
       "Costs as a percentage of the GDP    %   NaN   NaN  10.6   100  91.743119   \n",
       "Persons in (very) good health       %   NaN   NaN   NaN   100  98.408813   \n",
       "\n",
       "                                        2010        2019        2020  \\\n",
       "Topic                                                                  \n",
       "Costs as a percentage of the GDP  122.935780  121.100917  133.027523   \n",
       "Persons in (very) good health      98.286414   96.328029   99.755202   \n",
       "\n",
       "                                        2021  2022  \n",
       "Topic                                               \n",
       "Costs as a percentage of the GDP  133.027523   NaN  \n",
       "Persons in (very) good health      98.531212   NaN  "
      ]
     },
     "execution_count": 24,
     "metadata": {},
     "output_type": "execute_result"
    }
   ],
   "source": [
    "costs_df"
   ]
  },
  {
   "cell_type": "code",
   "execution_count": 25,
   "id": "e33b1077-3055-44b9-a299-8f595f246b75",
   "metadata": {},
   "outputs": [],
   "source": [
    "long_df = to_long_format(costs_df)"
   ]
  },
  {
   "cell_type": "code",
   "execution_count": 26,
   "id": "5ee72d22-4217-4dbd-b1d2-fafe0e08697d",
   "metadata": {},
   "outputs": [
    {
     "name": "stderr",
     "output_type": "stream",
     "text": [
      "/Users/svenvanderburg/miniforge3/envs/teaching/lib/python3.9/site-packages/plotnine/geoms/geom_path.py:75: PlotnineWarning: geom_path: Removed 4 rows containing missing values.\n"
     ]
    },
    {
     "data": {
      "image/png": "[encoded data removed]",
      "text/plain": [
       "<Figure size 500x300 with 1 Axes>"
      ]
     },
     "metadata": {},
     "output_type": "display_data"
    },
    {
     "data": {
      "text/plain": [
       "<ggplot: (697204333)>"
      ]
     },
     "execution_count": 26,
     "metadata": {},
     "output_type": "execute_result"
    }
   ],
   "source": [
    "(p9.ggplot(data=long_df,\n",
    "           mapping=p9.aes(x='year', y='value', color='Topic'))\n",
    "    + p9.geom_line()\n",
    "    + p9.theme(figure_size=(5, 3))\n",
    "    + p9.xlim([1990, 2021])\n",
    "    + p9.ylim([80, 140])\n",
    "    + p9.ylab('Index (1990=100)')\n",
    ")"
   ]
  },
  {
   "cell_type": "markdown",
   "id": "0b687aa8-1d21-4911-add0-0eb5fcb9c39f",
   "metadata": {},
   "source": [
    "## 7. Bonus question: another dataset\n",
    "Have a look at the [other CBS opendata datasets](https://opendata.cbs.nl/statline/#/CBS/en/navigatieScherm/thema). Pick a dataset that you like. Come up with interesting questions about the data and try to answer them using data analysis."
   ]
  },
  {
   "cell_type": "code",
   "execution_count": null,
   "id": "3c101db1-3c66-46b3-96d8-9bacf6b72432",
   "metadata": {},
   "outputs": [],
   "source": []
  }
 ],
 "metadata": {
  "kernelspec": {
   "display_name": "Python 3 (ipykernel)",
   "language": "python",
   "name": "python3"
  },
  "language_info": {
   "codemirror_mode": {
    "name": "ipython",
    "version": 3
   },
   "file_extension": ".py",
   "mimetype": "text/x-python",
   "name": "python",
   "nbconvert_exporter": "python",
   "pygments_lexer": "ipython3",
   "version": "3.9.0"
  }
 },
 "nbformat": 4,
 "nbformat_minor": 5
}
