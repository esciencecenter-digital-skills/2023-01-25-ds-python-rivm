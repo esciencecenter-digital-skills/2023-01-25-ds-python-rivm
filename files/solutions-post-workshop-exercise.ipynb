{
 "cells": [
  {
   "cell_type": "code",
   "execution_count": 50,
   "id": "e7442ff6-88b0-4948-81bd-c8e4aa5c38db",
   "metadata": {},
   "outputs": [],
   "source": [
    "import matplotlib.pyplot as plt\n",
    "import numpy as np\n",
    "import pandas as pd\n",
    "import plotnine as p9"
   ]
  },
  {
   "cell_type": "markdown",
   "id": "7e1b1661-9303-45c1-a208-4fc230e262cc",
   "metadata": {},
   "source": [
    "### 1. Loading the data\n",
    "1. Load the data in pandas. (Hint: check the separator that is used in the file, you can pass a different separator to `read_csv()` using the `sep` argument)\n",
    "2. Take a look at the data. As you can see, the Topic is read as a column and not as index. You can fix this by passing `index_col='Topic'` to `read_csv()`."
   ]
  },
  {
   "cell_type": "code",
   "execution_count": 161,
   "id": "0c9344ba-f0f4-49dc-bcc1-87e7923c1a1d",
   "metadata": {},
   "outputs": [
    {
     "data": {
      "text/html": [
       "<div>\n",
       "<style scoped>\n",
       "    .dataframe tbody tr th:only-of-type {\n",
       "        vertical-align: middle;\n",
       "    }\n",
       "\n",
       "    .dataframe tbody tr th {\n",
       "        vertical-align: top;\n",
       "    }\n",
       "\n",
       "    .dataframe thead th {\n",
       "        text-align: right;\n",
       "    }\n",
       "</style>\n",
       "<table border=\"1\" class=\"dataframe\">\n",
       "  <thead>\n",
       "    <tr style=\"text-align: right;\">\n",
       "      <th></th>\n",
       "      <th>Unnamed: 1</th>\n",
       "      <th>1900</th>\n",
       "      <th>1940</th>\n",
       "      <th>1980</th>\n",
       "      <th>1990</th>\n",
       "      <th>2000</th>\n",
       "      <th>2010</th>\n",
       "      <th>2019</th>\n",
       "      <th>2020</th>\n",
       "      <th>2021</th>\n",
       "      <th>2022</th>\n",
       "    </tr>\n",
       "    <tr>\n",
       "      <th>Topic</th>\n",
       "      <th></th>\n",
       "      <th></th>\n",
       "      <th></th>\n",
       "      <th></th>\n",
       "      <th></th>\n",
       "      <th></th>\n",
       "      <th></th>\n",
       "      <th></th>\n",
       "      <th></th>\n",
       "      <th></th>\n",
       "      <th></th>\n",
       "    </tr>\n",
       "  </thead>\n",
       "  <tbody>\n",
       "    <tr>\n",
       "      <th>Demographic key figures|Population on January 1</th>\n",
       "      <td>x 1 000</td>\n",
       "      <td>5104</td>\n",
       "      <td>8834</td>\n",
       "      <td>14091</td>\n",
       "      <td>14893</td>\n",
       "      <td>15864</td>\n",
       "      <td>16575</td>\n",
       "      <td>17282</td>\n",
       "      <td>17408</td>\n",
       "      <td>17475</td>\n",
       "      <td>17591</td>\n",
       "    </tr>\n",
       "    <tr>\n",
       "      <th>Demographic key figures|Live born children</th>\n",
       "      <td>x 1 000</td>\n",
       "      <td>163</td>\n",
       "      <td>185</td>\n",
       "      <td>181</td>\n",
       "      <td>198</td>\n",
       "      <td>207</td>\n",
       "      <td>184</td>\n",
       "      <td>170</td>\n",
       "      <td>169</td>\n",
       "      <td>179</td>\n",
       "      <td>.</td>\n",
       "    </tr>\n",
       "    <tr>\n",
       "      <th>Demographic key figures|Deaths</th>\n",
       "      <td>x 1 000</td>\n",
       "      <td>92</td>\n",
       "      <td>88</td>\n",
       "      <td>114</td>\n",
       "      <td>129</td>\n",
       "      <td>141</td>\n",
       "      <td>136</td>\n",
       "      <td>152</td>\n",
       "      <td>169</td>\n",
       "      <td>171</td>\n",
       "      <td>.</td>\n",
       "    </tr>\n",
       "    <tr>\n",
       "      <th>Health status|Persons in (very) good health</th>\n",
       "      <td>%</td>\n",
       "      <td>.</td>\n",
       "      <td>.</td>\n",
       "      <td>.</td>\n",
       "      <td>81.7</td>\n",
       "      <td>80.4</td>\n",
       "      <td>80.3</td>\n",
       "      <td>78.7</td>\n",
       "      <td>81.5</td>\n",
       "      <td>80.5</td>\n",
       "      <td>.</td>\n",
       "    </tr>\n",
       "    <tr>\n",
       "      <th>Health status|Persons with complete dentures</th>\n",
       "      <td>%</td>\n",
       "      <td>.</td>\n",
       "      <td>.</td>\n",
       "      <td>.</td>\n",
       "      <td>23.7</td>\n",
       "      <td>15.7</td>\n",
       "      <td>.</td>\n",
       "      <td>.</td>\n",
       "      <td>.</td>\n",
       "      <td>.</td>\n",
       "      <td>.</td>\n",
       "    </tr>\n",
       "  </tbody>\n",
       "</table>\n",
       "</div>"
      ],
      "text/plain": [
       "                                                Unnamed: 1  1900  1940   1980  \\\n",
       "Topic                                                                           \n",
       "Demographic key figures|Population on January 1    x 1 000  5104  8834  14091   \n",
       "Demographic key figures|Live born children         x 1 000   163   185    181   \n",
       "Demographic key figures|Deaths                     x 1 000    92    88    114   \n",
       "Health status|Persons in (very) good health              %     .     .      .   \n",
       "Health status|Persons with complete dentures             %     .     .      .   \n",
       "\n",
       "                                                  1990   2000   2010   2019  \\\n",
       "Topic                                                                         \n",
       "Demographic key figures|Population on January 1  14893  15864  16575  17282   \n",
       "Demographic key figures|Live born children         198    207    184    170   \n",
       "Demographic key figures|Deaths                     129    141    136    152   \n",
       "Health status|Persons in (very) good health       81.7   80.4   80.3   78.7   \n",
       "Health status|Persons with complete dentures      23.7   15.7      .      .   \n",
       "\n",
       "                                                  2020   2021   2022  \n",
       "Topic                                                                 \n",
       "Demographic key figures|Population on January 1  17408  17475  17591  \n",
       "Demographic key figures|Live born children         169    179      .  \n",
       "Demographic key figures|Deaths                     169    171      .  \n",
       "Health status|Persons in (very) good health       81.5   80.5      .  \n",
       "Health status|Persons with complete dentures         .      .      .  "
      ]
     },
     "execution_count": 161,
     "metadata": {},
     "output_type": "execute_result"
    }
   ],
   "source": [
    "filepath = '../data/Health__lifestyle__health_care_use_and_supply__causes_of_death__from_1900_21122022_143458.csv'\n",
    "df = pd.read_csv(filepath, sep=';', index_col='Topic')\n",
    "df.head()"
   ]
  },
  {
   "cell_type": "markdown",
   "id": "6c68c8a8-12bc-42a9-a601-0915eb37b719",
   "metadata": {},
   "source": [
    "### 2. Cleaning up the data\n",
    "1. Take a look at the data. How are missing data represented?\n",
    "2. Replace the value that is used for missing data with NaN. (hint: You can replace values using DataFrame.replace(). You can use numpy.nan to represent NaN values)"
   ]
  },
  {
   "cell_type": "code",
   "execution_count": 162,
   "id": "e7c7f78f-33bd-4db8-a9e5-c59ecca38f2d",
   "metadata": {},
   "outputs": [],
   "source": [
    "df = df.rename(columns={'Unnamed: 1': 'unit'})"
   ]
  },
  {
   "cell_type": "code",
   "execution_count": 163,
   "id": "67153b90-341b-455e-8b7f-d07ec713e5c8",
   "metadata": {},
   "outputs": [],
   "source": [
    "df = df.replace('.', np.nan)"
   ]
  },
  {
   "cell_type": "code",
   "execution_count": 164,
   "id": "8e3fbe0e-56cd-471b-83d9-bc463b746db3",
   "metadata": {},
   "outputs": [],
   "source": [
    "# Not yet in a question:\n",
    "for column in ['1900', '1940', '1980', '1990', '2000', '2010', '2019', '2020', '2021', '2022']:\n",
    " df[column] = df[column].astype('float')"
   ]
  },
  {
   "cell_type": "markdown",
   "id": "f42eb94e-a473-4bee-b709-a7aff1cd96f6",
   "metadata": {},
   "source": [
    "## 3. External causes of death bar graph \n",
    "1. Create a bargraph that shows the number of deaths per 100 000 people for the 4 external causes of mortality.\n",
    "\n",
    "NB: This still needs much more guidance"
   ]
  },
  {
   "cell_type": "code",
   "execution_count": 138,
   "id": "44fec91d-7a0f-4891-b327-2262720d3642",
   "metadata": {},
   "outputs": [],
   "source": [
    "topics = ['Causes of death|External causes of mortality|Suicide',\n",
    "          'Causes of death|External causes of mortality|Accidental drowning',\n",
    "          'Causes of death|External causes of mortality|Accidental falls',\n",
    "          'Causes of death|External causes of mortality|Transport accidents']\n",
    "external_causes_df = df.loc[topics]\n",
    "mapper = {'Causes of death|External causes of mortality|Suicide': 'Suicide',\n",
    "          'Causes of death|External causes of mortality|Accidental drowning': 'Accidental drowning',\n",
    "          'Causes of death|External causes of mortality|Accidental falls': 'Accidental falls',\n",
    "          'Causes of death|External causes of mortality|Transport accidents': 'Transport accidents'}\n",
    "external_causes_df = external_causes_df.rename(index=mapper)"
   ]
  },
  {
   "cell_type": "code",
   "execution_count": 157,
   "id": "88deddad-3722-4992-b9eb-5889b8d30f9f",
   "metadata": {},
   "outputs": [
    {
     "data": {
      "image/png": "[encoded data removed]",
      "text/plain": [
       "<Figure size 300x600 with 1 Axes>"
      ]
     },
     "metadata": {},
     "output_type": "display_data"
    },
    {
     "data": {
      "text/plain": [
       "<ggplot: (703027505)>"
      ]
     },
     "execution_count": 157,
     "metadata": {},
     "output_type": "execute_result"
    }
   ],
   "source": [
    "(p9.ggplot(data=external_causes_df,\n",
    "           mapping=p9.aes(x=external_causes_df.index, y='2021')) # hint!\n",
    "    + p9.geom_bar(stat='identity') # hint!\n",
    "    + p9.theme(axis_text_x = p9.element_text(angle=90))\n",
    "    + p9.ylab(\"Number of deaths per 100 000 people\")\n",
    "    + p9.xlab(\"Cause of death\")\n",
    "    + p9.theme(figure_size=(3, 6))\n",
    ")"
   ]
  },
  {
   "cell_type": "markdown",
   "id": "71383f28-5384-4836-83cc-cbebf8c4a893",
   "metadata": {},
   "source": [
    "Other questions:\n",
    "* Write a function that only keeps the last part of the index names (i.e. splitting on '|')\n",
    "* Hypothesis: Proportion of HIV-infected people that develop AIDS has declined over the years.\n",
    "* Population, live born children, deaths over the years (including 2022). Missing data!\n",
    "* Expenditure. See if mortality / persons in (very) good health correlate to healthcare costs. Costs as a percentage of the GDP. Life expectancy\n",
    "* Merge with some other data\n",
    "* External causes of mortality bar plot"
   ]
  },
  {
   "cell_type": "code",
   "execution_count": null,
   "id": "f83c4066-8b4e-4d84-9eb3-f3d6ddba4f45",
   "metadata": {},
   "outputs": [],
   "source": []
  }
 ],
 "metadata": {
  "kernelspec": {
   "display_name": "Python 3 (ipykernel)",
   "language": "python",
   "name": "python3"
  },
  "language_info": {
   "codemirror_mode": {
    "name": "ipython",
    "version": 3
   },
   "file_extension": ".py",
   "mimetype": "text/x-python",
   "name": "python",
   "nbconvert_exporter": "python",
   "pygments_lexer": "ipython3",
   "version": "3.9.0"
  }
 },
 "nbformat": 4,
 "nbformat_minor": 5
}
