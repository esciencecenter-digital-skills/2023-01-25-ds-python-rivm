{
 "cells": [
  {
   "cell_type": "markdown",
   "id": "370eadd2-27dc-4103-b54f-0f06e07e6f7d",
   "metadata": {},
   "source": [
    "# Data types and formats & missing values"
   ]
  },
  {
   "cell_type": "code",
   "execution_count": 1,
   "id": "75b4fe78-d556-4f1f-9f9a-1a69d46f1ee4",
   "metadata": {},
   "outputs": [],
   "source": [
    "import pandas as pd"
   ]
  },
  {
   "cell_type": "code",
   "execution_count": 3,
   "id": "94169237-b7de-42e6-83b0-22a222369caa",
   "metadata": {},
   "outputs": [],
   "source": [
    "surveys_df = pd.read_csv('data/surveys.csv')"
   ]
  },
  {
   "cell_type": "code",
   "execution_count": 4,
   "id": "ef1d07a2-e793-44c1-b1c9-69ac750b8a2e",
   "metadata": {},
   "outputs": [
    {
     "data": {
      "text/plain": [
       "dtype('int64')"
      ]
     },
     "execution_count": 4,
     "metadata": {},
     "output_type": "execute_result"
    }
   ],
   "source": [
    "surveys_df['record_id'].dtype"
   ]
  },
  {
   "cell_type": "code",
   "execution_count": 5,
   "id": "4dd5ee8e-b831-4c39-9830-02d44f5b69c0",
   "metadata": {},
   "outputs": [],
   "source": [
    "surveys_df['record_id'] = surveys_df['record_id'].astype('float64')"
   ]
  },
  {
   "cell_type": "code",
   "execution_count": 6,
   "id": "e78e7450-696a-4231-af6b-96ddc5064956",
   "metadata": {},
   "outputs": [
    {
     "data": {
      "text/plain": [
       "dtype('float64')"
      ]
     },
     "execution_count": 6,
     "metadata": {},
     "output_type": "execute_result"
    }
   ],
   "source": [
    "surveys_df['record_id'].dtype"
   ]
  },
  {
   "cell_type": "markdown",
   "id": "96b03269-1f74-4487-8947-e4be73e7d31e",
   "metadata": {},
   "source": [
    "## Missing values"
   ]
  },
  {
   "cell_type": "code",
   "execution_count": 7,
   "id": "4894ac7b-3e6f-4868-a72f-39fcb1959ce9",
   "metadata": {},
   "outputs": [
    {
     "data": {
      "text/plain": [
       "0         True\n",
       "1         True\n",
       "2         True\n",
       "3         True\n",
       "4         True\n",
       "         ...  \n",
       "35544     True\n",
       "35545     True\n",
       "35546    False\n",
       "35547    False\n",
       "35548     True\n",
       "Name: weight, Length: 35549, dtype: bool"
      ]
     },
     "execution_count": 7,
     "metadata": {},
     "output_type": "execute_result"
    }
   ],
   "source": [
    "pd.isnull(surveys_df.weight)"
   ]
  },
  {
   "cell_type": "code",
   "execution_count": 9,
   "id": "9428e9bc-4e0e-43ca-8570-d916b18c89d2",
   "metadata": {},
   "outputs": [],
   "source": [
    "rows_with_nan_values = surveys_df[pd.isnull(surveys_df.weight)]"
   ]
  },
  {
   "cell_type": "code",
   "execution_count": 11,
   "id": "ff68c517-bf3d-4dba-92c0-c5821eff4121",
   "metadata": {},
   "outputs": [
    {
     "data": {
      "text/plain": [
       "3266"
      ]
     },
     "execution_count": 11,
     "metadata": {},
     "output_type": "execute_result"
    }
   ],
   "source": [
    "len(rows_with_nan_values)"
   ]
  },
  {
   "cell_type": "code",
   "execution_count": 12,
   "id": "245ee0c7-d1aa-4eef-b242-821973dbbe1d",
   "metadata": {},
   "outputs": [
    {
     "data": {
      "text/plain": [
       "42.672428212991356"
      ]
     },
     "execution_count": 12,
     "metadata": {},
     "output_type": "execute_result"
    }
   ],
   "source": [
    "surveys_df['weight'].mean()"
   ]
  },
  {
   "cell_type": "code",
   "execution_count": 13,
   "id": "2e018b32-0eb7-451c-a257-ce3bd2eed057",
   "metadata": {},
   "outputs": [],
   "source": [
    "surveys_df['weight'] = surveys_df['weight'].fillna(0)"
   ]
  },
  {
   "cell_type": "code",
   "execution_count": 14,
   "id": "065d34c4-e550-4adb-9764-ffe230916022",
   "metadata": {},
   "outputs": [
    {
     "data": {
      "text/plain": [
       "38.751976145601844"
      ]
     },
     "execution_count": 14,
     "metadata": {},
     "output_type": "execute_result"
    }
   ],
   "source": [
    "surveys_df['weight'].mean()"
   ]
  },
  {
   "cell_type": "code",
   "execution_count": null,
   "id": "383546b8-15c1-40f1-96c0-a64cb1adff68",
   "metadata": {},
   "outputs": [],
   "source": []
  }
 ],
 "metadata": {
  "kernelspec": {
   "display_name": "Python 3 (ipykernel)",
   "language": "python",
   "name": "python3"
  },
  "language_info": {
   "codemirror_mode": {
    "name": "ipython",
    "version": 3
   },
   "file_extension": ".py",
   "mimetype": "text/x-python",
   "name": "python",
   "nbconvert_exporter": "python",
   "pygments_lexer": "ipython3",
   "version": "3.10.8"
  }
 },
 "nbformat": 4,
 "nbformat_minor": 5
}
