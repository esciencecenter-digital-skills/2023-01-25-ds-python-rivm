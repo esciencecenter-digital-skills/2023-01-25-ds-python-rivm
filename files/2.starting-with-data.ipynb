{
 "cells": [
  {
   "cell_type": "markdown",
   "id": "ac67bdbf-f190-4695-b149-14f4fd7693e6",
   "metadata": {},
   "source": [
    "# Starting with data\n",
    "* How can I import data in Python?\n",
    "* What is Pandas?\n",
    "* Why should I use Pandas to work with data?"
   ]
  },
  {
   "cell_type": "markdown",
   "id": "84e6d475-d7ce-4f66-8bb2-466bf3942be3",
   "metadata": {},
   "source": [
    "## Read in the data"
   ]
  },
  {
   "cell_type": "code",
   "execution_count": 1,
   "id": "357140fd-ebc9-4034-bf8e-a4a311f6c0b5",
   "metadata": {},
   "outputs": [],
   "source": [
    "import pandas as pd"
   ]
  },
  {
   "cell_type": "code",
   "execution_count": 2,
   "id": "57a5d3f8-903e-4ef5-9eb3-b01fe3247037",
   "metadata": {},
   "outputs": [
    {
     "data": {
      "text/plain": [
       "<module 'pandas' from '/mnt/miniconda/envs/ood/lib/python3.10/site-packages/pandas/__init__.py'>"
      ]
     },
     "execution_count": 2,
     "metadata": {},
     "output_type": "execute_result"
    }
   ],
   "source": [
    "pd"
   ]
  },
  {
   "cell_type": "code",
   "execution_count": 4,
   "id": "7e2c93a4-cdec-494a-95fd-3aca7a088bde",
   "metadata": {},
   "outputs": [],
   "source": [
    "surveys_df = pd.read_csv(\"data/surveys.csv\") # df = dataframe"
   ]
  },
  {
   "cell_type": "code",
   "execution_count": 5,
   "id": "c9c247b2-1916-48b0-a244-5fa0b9b39018",
   "metadata": {},
   "outputs": [
    {
     "data": {
      "text/plain": [
       "pandas.core.frame.DataFrame"
      ]
     },
     "execution_count": 5,
     "metadata": {},
     "output_type": "execute_result"
    }
   ],
   "source": [
    "type(surveys_df)"
   ]
  },
  {
   "cell_type": "code",
   "execution_count": 6,
   "id": "02bb7d09-796b-463d-a3bd-c3de6f126eb0",
   "metadata": {},
   "outputs": [
    {
     "data": {
      "text/plain": [
       "record_id            int64\n",
       "month                int64\n",
       "day                  int64\n",
       "year                 int64\n",
       "plot_id              int64\n",
       "species_id          object\n",
       "sex                 object\n",
       "hindfoot_length    float64\n",
       "weight             float64\n",
       "dtype: object"
      ]
     },
     "execution_count": 6,
     "metadata": {},
     "output_type": "execute_result"
    }
   ],
   "source": [
    "surveys_df.dtypes # dtypes is an attribute of a dataframe"
   ]
  },
  {
   "cell_type": "markdown",
   "id": "71684ad8-6552-4d90-a7ee-991895d940a8",
   "metadata": {},
   "source": [
    "\n",
    "#### Challenge - DataFrames\n",
    "\n",
    "Using our DataFrame `surveys_df`, try out the attributes & methods below to see\n",
    "what they return.\n",
    "\n",
    "1. `surveys_df.columns`\n",
    "2. `surveys_df.shape` Take note of the output of `shape` - what format does it return the shape of the DataFrame in?\n",
    "\n",
    "HINT: [More on tuples, here][python-datastructures].\n",
    "\n",
    "3. `surveys_df.head()` Also, what does `surveys_df.head(15)` do?\n",
    "4. `surveys_df.tail()` Also, what does *'surveysdf.tail'* do"
   ]
  },
  {
   "cell_type": "code",
   "execution_count": 18,
   "id": "af05b713-93f2-4347-9945-217da28603b1",
   "metadata": {},
   "outputs": [
    {
     "data": {
      "text/plain": [
       "Index(['record_id', 'month', 'day', 'year', 'plot_id', 'species_id', 'sex',\n",
       "       'hindfoot_length', 'weight'],\n",
       "      dtype='object')"
      ]
     },
     "execution_count": 18,
     "metadata": {},
     "output_type": "execute_result"
    }
   ],
   "source": [
    "surveys_df.columns # all columns in the dataset s"
   ]
  },
  {
   "cell_type": "code",
   "execution_count": 16,
   "id": "d8f28153-4212-4820-8263-5335f69ec3da",
   "metadata": {},
   "outputs": [
    {
     "data": {
      "text/plain": [
       "(35549, 9)"
      ]
     },
     "execution_count": 16,
     "metadata": {},
     "output_type": "execute_result"
    }
   ],
   "source": [
    "surveys_df.shape # dimensions of the dataset"
   ]
  },
  {
   "cell_type": "code",
   "execution_count": 14,
   "id": "2cd9bd22-027a-46e8-aebb-d9976397ad0e",
   "metadata": {},
   "outputs": [
    {
     "data": {
      "text/plain": [
       "tuple"
      ]
     },
     "execution_count": 14,
     "metadata": {},
     "output_type": "execute_result"
    }
   ],
   "source": [
    "type(surveys_df.shape)"
   ]
  },
  {
   "cell_type": "code",
   "execution_count": 15,
   "id": "41407294-3ef0-4750-a848-372dfa1bc184",
   "metadata": {},
   "outputs": [
    {
     "data": {
      "text/html": [
       "<div>\n",
       "<style scoped>\n",
       "    .dataframe tbody tr th:only-of-type {\n",
       "        vertical-align: middle;\n",
       "    }\n",
       "\n",
       "    .dataframe tbody tr th {\n",
       "        vertical-align: top;\n",
       "    }\n",
       "\n",
       "    .dataframe thead th {\n",
       "        text-align: right;\n",
       "    }\n",
       "</style>\n",
       "<table border=\"1\" class=\"dataframe\">\n",
       "  <thead>\n",
       "    <tr style=\"text-align: right;\">\n",
       "      <th></th>\n",
       "      <th>record_id</th>\n",
       "      <th>month</th>\n",
       "      <th>day</th>\n",
       "      <th>year</th>\n",
       "      <th>plot_id</th>\n",
       "      <th>species_id</th>\n",
       "      <th>sex</th>\n",
       "      <th>hindfoot_length</th>\n",
       "      <th>weight</th>\n",
       "    </tr>\n",
       "  </thead>\n",
       "  <tbody>\n",
       "    <tr>\n",
       "      <th>0</th>\n",
       "      <td>1</td>\n",
       "      <td>7</td>\n",
       "      <td>16</td>\n",
       "      <td>1977</td>\n",
       "      <td>2</td>\n",
       "      <td>NL</td>\n",
       "      <td>M</td>\n",
       "      <td>32.0</td>\n",
       "      <td>NaN</td>\n",
       "    </tr>\n",
       "    <tr>\n",
       "      <th>1</th>\n",
       "      <td>2</td>\n",
       "      <td>7</td>\n",
       "      <td>16</td>\n",
       "      <td>1977</td>\n",
       "      <td>3</td>\n",
       "      <td>NL</td>\n",
       "      <td>M</td>\n",
       "      <td>33.0</td>\n",
       "      <td>NaN</td>\n",
       "    </tr>\n",
       "    <tr>\n",
       "      <th>2</th>\n",
       "      <td>3</td>\n",
       "      <td>7</td>\n",
       "      <td>16</td>\n",
       "      <td>1977</td>\n",
       "      <td>2</td>\n",
       "      <td>DM</td>\n",
       "      <td>F</td>\n",
       "      <td>37.0</td>\n",
       "      <td>NaN</td>\n",
       "    </tr>\n",
       "  </tbody>\n",
       "</table>\n",
       "</div>"
      ],
      "text/plain": [
       "   record_id  month  day  year  plot_id species_id sex  hindfoot_length  \\\n",
       "0          1      7   16  1977        2         NL   M             32.0   \n",
       "1          2      7   16  1977        3         NL   M             33.0   \n",
       "2          3      7   16  1977        2         DM   F             37.0   \n",
       "\n",
       "   weight  \n",
       "0     NaN  \n",
       "1     NaN  \n",
       "2     NaN  "
      ]
     },
     "execution_count": 15,
     "metadata": {},
     "output_type": "execute_result"
    }
   ],
   "source": [
    "surveys_df.head(3) # Shows first 3 rows"
   ]
  },
  {
   "cell_type": "code",
   "execution_count": 19,
   "id": "01ee5dac-3c75-449a-9c7a-de86d01f52a1",
   "metadata": {},
   "outputs": [
    {
     "data": {
      "text/html": [
       "<div>\n",
       "<style scoped>\n",
       "    .dataframe tbody tr th:only-of-type {\n",
       "        vertical-align: middle;\n",
       "    }\n",
       "\n",
       "    .dataframe tbody tr th {\n",
       "        vertical-align: top;\n",
       "    }\n",
       "\n",
       "    .dataframe thead th {\n",
       "        text-align: right;\n",
       "    }\n",
       "</style>\n",
       "<table border=\"1\" class=\"dataframe\">\n",
       "  <thead>\n",
       "    <tr style=\"text-align: right;\">\n",
       "      <th></th>\n",
       "      <th>record_id</th>\n",
       "      <th>month</th>\n",
       "      <th>day</th>\n",
       "      <th>year</th>\n",
       "      <th>plot_id</th>\n",
       "      <th>species_id</th>\n",
       "      <th>sex</th>\n",
       "      <th>hindfoot_length</th>\n",
       "      <th>weight</th>\n",
       "    </tr>\n",
       "  </thead>\n",
       "  <tbody>\n",
       "    <tr>\n",
       "      <th>35547</th>\n",
       "      <td>35548</td>\n",
       "      <td>12</td>\n",
       "      <td>31</td>\n",
       "      <td>2002</td>\n",
       "      <td>7</td>\n",
       "      <td>DO</td>\n",
       "      <td>M</td>\n",
       "      <td>36.0</td>\n",
       "      <td>51.0</td>\n",
       "    </tr>\n",
       "    <tr>\n",
       "      <th>35548</th>\n",
       "      <td>35549</td>\n",
       "      <td>12</td>\n",
       "      <td>31</td>\n",
       "      <td>2002</td>\n",
       "      <td>5</td>\n",
       "      <td>NaN</td>\n",
       "      <td>NaN</td>\n",
       "      <td>NaN</td>\n",
       "      <td>NaN</td>\n",
       "    </tr>\n",
       "  </tbody>\n",
       "</table>\n",
       "</div>"
      ],
      "text/plain": [
       "       record_id  month  day  year  plot_id species_id  sex  hindfoot_length  \\\n",
       "35547      35548     12   31  2002        7         DO    M             36.0   \n",
       "35548      35549     12   31  2002        5        NaN  NaN              NaN   \n",
       "\n",
       "       weight  \n",
       "35547    51.0  \n",
       "35548     NaN  "
      ]
     },
     "execution_count": 19,
     "metadata": {},
     "output_type": "execute_result"
    }
   ],
   "source": [
    "surveys_df.tail(2) # shows last two rows"
   ]
  },
  {
   "cell_type": "markdown",
   "id": "9ba75571-6ed7-4f03-9407-c83d66801efa",
   "metadata": {},
   "source": [
    "## Looking at values inside the data"
   ]
  },
  {
   "cell_type": "code",
   "execution_count": 20,
   "id": "9c304159-ba41-4538-b880-f73091d322b8",
   "metadata": {},
   "outputs": [],
   "source": [
    "species = surveys_df['species_id']"
   ]
  },
  {
   "cell_type": "code",
   "execution_count": 21,
   "id": "90e5632c-6579-4f17-b7cc-4c338044e7cc",
   "metadata": {
    "collapsed": true,
    "jupyter": {
     "outputs_hidden": true
    },
    "tags": []
   },
   "outputs": [
    {
     "data": {
      "text/plain": [
       "0         NL\n",
       "1         NL\n",
       "2         DM\n",
       "3         DM\n",
       "4         DM\n",
       "        ... \n",
       "35544     AH\n",
       "35545     AH\n",
       "35546     RM\n",
       "35547     DO\n",
       "35548    NaN\n",
       "Name: species_id, Length: 35549, dtype: object"
      ]
     },
     "execution_count": 21,
     "metadata": {},
     "output_type": "execute_result"
    }
   ],
   "source": [
    "species"
   ]
  },
  {
   "cell_type": "code",
   "execution_count": 22,
   "id": "cc4323ef-86e4-4ef1-b163-744153476bd1",
   "metadata": {},
   "outputs": [
    {
     "data": {
      "text/plain": [
       "array(['NL', 'DM', 'PF', 'PE', 'DS', 'PP', 'SH', 'OT', 'DO', 'OX', 'SS',\n",
       "       'OL', 'RM', nan, 'SA', 'PM', 'AH', 'DX', 'AB', 'CB', 'CM', 'CQ',\n",
       "       'RF', 'PC', 'PG', 'PH', 'PU', 'CV', 'UR', 'UP', 'ZL', 'UL', 'CS',\n",
       "       'SC', 'BA', 'SF', 'RO', 'AS', 'SO', 'PI', 'ST', 'CU', 'SU', 'RX',\n",
       "       'PB', 'PL', 'PX', 'CT', 'US'], dtype=object)"
      ]
     },
     "execution_count": 22,
     "metadata": {},
     "output_type": "execute_result"
    }
   ],
   "source": [
    "pd.unique(species)"
   ]
  },
  {
   "cell_type": "markdown",
   "id": "3849dcba-29ac-4c67-bd92-7ca654ef76bb",
   "metadata": {
    "jupyter": {
     "source_hidden": true
    },
    "tags": []
   },
   "source": [
    "#### Challenge - Statistics\n",
    "\n",
    "1. Create a list of unique site ID's (\"plot_id\") found in the surveys data. Call it\n",
    "`site_names`. How many unique sites are there in the data? How many unique\n",
    "species are in the data?\n",
    "\n",
    "2. (optional) What is the difference between `len(site_names)` and `surveys_df['plot_id'].nunique()`?\n"
   ]
  },
  {
   "cell_type": "code",
   "execution_count": 23,
   "id": "2ca716c8-62b6-411e-b8bb-b8367936be0c",
   "metadata": {},
   "outputs": [],
   "source": [
    "site_names = pd.unique(surveys_df['plot_id'])"
   ]
  },
  {
   "cell_type": "code",
   "execution_count": 24,
   "id": "180d305b-b77f-46e3-962a-cff940cdfae3",
   "metadata": {},
   "outputs": [
    {
     "data": {
      "text/plain": [
       "array([ 2,  3,  7,  1,  6,  5,  8,  4, 11, 14, 15, 13,  9, 10, 17, 16, 20,\n",
       "       23, 18, 21, 22, 19, 12, 24])"
      ]
     },
     "execution_count": 24,
     "metadata": {},
     "output_type": "execute_result"
    }
   ],
   "source": [
    "site_names"
   ]
  },
  {
   "cell_type": "code",
   "execution_count": 25,
   "id": "9e437142-2507-4cdb-a442-98ccd3325978",
   "metadata": {},
   "outputs": [
    {
     "data": {
      "text/plain": [
       "24"
      ]
     },
     "execution_count": 25,
     "metadata": {},
     "output_type": "execute_result"
    }
   ],
   "source": [
    "len(site_names)"
   ]
  },
  {
   "cell_type": "code",
   "execution_count": 26,
   "id": "21e6b3a9-f98c-43b5-a0b1-b789e24a2332",
   "metadata": {},
   "outputs": [
    {
     "data": {
      "text/plain": [
       "49"
      ]
     },
     "execution_count": 26,
     "metadata": {},
     "output_type": "execute_result"
    }
   ],
   "source": [
    "len(pd.unique(species))"
   ]
  },
  {
   "cell_type": "code",
   "execution_count": 28,
   "id": "1710f0b7-bbfa-48d9-b7ec-4d574feadcf6",
   "metadata": {},
   "outputs": [
    {
     "data": {
      "text/plain": [
       "24"
      ]
     },
     "execution_count": 28,
     "metadata": {},
     "output_type": "execute_result"
    }
   ],
   "source": [
    "site_names.__len__() # You can ignore this"
   ]
  },
  {
   "cell_type": "markdown",
   "id": "d1ce63da-96a8-47b5-aa2c-0e543404da10",
   "metadata": {},
   "source": [
    "## Groups in Pandas"
   ]
  },
  {
   "cell_type": "code",
   "execution_count": 29,
   "id": "8ca763e9-c3a0-400b-8b80-51b883e9bf5c",
   "metadata": {},
   "outputs": [
    {
     "data": {
      "text/plain": [
       "count    32283.000000\n",
       "mean        42.672428\n",
       "std         36.631259\n",
       "min          4.000000\n",
       "25%         20.000000\n",
       "50%         37.000000\n",
       "75%         48.000000\n",
       "max        280.000000\n",
       "Name: weight, dtype: float64"
      ]
     },
     "execution_count": 29,
     "metadata": {},
     "output_type": "execute_result"
    }
   ],
   "source": [
    "surveys_df['weight'].describe()"
   ]
  },
  {
   "cell_type": "code",
   "execution_count": 30,
   "id": "c20d33f5-d2c2-4d9c-8068-206687aeac3e",
   "metadata": {},
   "outputs": [
    {
     "data": {
      "text/plain": [
       "280.0"
      ]
     },
     "execution_count": 30,
     "metadata": {},
     "output_type": "execute_result"
    }
   ],
   "source": [
    "surveys_df['weight'].max()"
   ]
  },
  {
   "cell_type": "code",
   "execution_count": 31,
   "id": "27c38772-4514-41ad-b0fc-26fd2e9e7905",
   "metadata": {},
   "outputs": [],
   "source": [
    "# group the data by sex\n",
    "grouped_data = surveys_df.groupby('sex')\n",
    "                                  "
   ]
  },
  {
   "cell_type": "code",
   "execution_count": 32,
   "id": "76b581f6-5bf6-46ab-997e-3828a781e852",
   "metadata": {},
   "outputs": [
    {
     "data": {
      "text/html": [
       "<div>\n",
       "<style scoped>\n",
       "    .dataframe tbody tr th:only-of-type {\n",
       "        vertical-align: middle;\n",
       "    }\n",
       "\n",
       "    .dataframe tbody tr th {\n",
       "        vertical-align: top;\n",
       "    }\n",
       "\n",
       "    .dataframe thead tr th {\n",
       "        text-align: left;\n",
       "    }\n",
       "\n",
       "    .dataframe thead tr:last-of-type th {\n",
       "        text-align: right;\n",
       "    }\n",
       "</style>\n",
       "<table border=\"1\" class=\"dataframe\">\n",
       "  <thead>\n",
       "    <tr>\n",
       "      <th></th>\n",
       "      <th colspan=\"8\" halign=\"left\">record_id</th>\n",
       "      <th colspan=\"2\" halign=\"left\">month</th>\n",
       "      <th>...</th>\n",
       "      <th colspan=\"2\" halign=\"left\">hindfoot_length</th>\n",
       "      <th colspan=\"8\" halign=\"left\">weight</th>\n",
       "    </tr>\n",
       "    <tr>\n",
       "      <th></th>\n",
       "      <th>count</th>\n",
       "      <th>mean</th>\n",
       "      <th>std</th>\n",
       "      <th>min</th>\n",
       "      <th>25%</th>\n",
       "      <th>50%</th>\n",
       "      <th>75%</th>\n",
       "      <th>max</th>\n",
       "      <th>count</th>\n",
       "      <th>mean</th>\n",
       "      <th>...</th>\n",
       "      <th>75%</th>\n",
       "      <th>max</th>\n",
       "      <th>count</th>\n",
       "      <th>mean</th>\n",
       "      <th>std</th>\n",
       "      <th>min</th>\n",
       "      <th>25%</th>\n",
       "      <th>50%</th>\n",
       "      <th>75%</th>\n",
       "      <th>max</th>\n",
       "    </tr>\n",
       "    <tr>\n",
       "      <th>sex</th>\n",
       "      <th></th>\n",
       "      <th></th>\n",
       "      <th></th>\n",
       "      <th></th>\n",
       "      <th></th>\n",
       "      <th></th>\n",
       "      <th></th>\n",
       "      <th></th>\n",
       "      <th></th>\n",
       "      <th></th>\n",
       "      <th></th>\n",
       "      <th></th>\n",
       "      <th></th>\n",
       "      <th></th>\n",
       "      <th></th>\n",
       "      <th></th>\n",
       "      <th></th>\n",
       "      <th></th>\n",
       "      <th></th>\n",
       "      <th></th>\n",
       "      <th></th>\n",
       "    </tr>\n",
       "  </thead>\n",
       "  <tbody>\n",
       "    <tr>\n",
       "      <th>F</th>\n",
       "      <td>15690.0</td>\n",
       "      <td>18036.412046</td>\n",
       "      <td>10423.089000</td>\n",
       "      <td>3.0</td>\n",
       "      <td>8917.50</td>\n",
       "      <td>18075.5</td>\n",
       "      <td>27250.00</td>\n",
       "      <td>35547.0</td>\n",
       "      <td>15690.0</td>\n",
       "      <td>6.587253</td>\n",
       "      <td>...</td>\n",
       "      <td>36.0</td>\n",
       "      <td>64.0</td>\n",
       "      <td>15303.0</td>\n",
       "      <td>42.170555</td>\n",
       "      <td>36.847958</td>\n",
       "      <td>4.0</td>\n",
       "      <td>20.0</td>\n",
       "      <td>34.0</td>\n",
       "      <td>46.0</td>\n",
       "      <td>274.0</td>\n",
       "    </tr>\n",
       "    <tr>\n",
       "      <th>M</th>\n",
       "      <td>17348.0</td>\n",
       "      <td>17754.835601</td>\n",
       "      <td>10132.203323</td>\n",
       "      <td>1.0</td>\n",
       "      <td>8969.75</td>\n",
       "      <td>17727.5</td>\n",
       "      <td>26454.25</td>\n",
       "      <td>35548.0</td>\n",
       "      <td>17348.0</td>\n",
       "      <td>6.396184</td>\n",
       "      <td>...</td>\n",
       "      <td>36.0</td>\n",
       "      <td>58.0</td>\n",
       "      <td>16879.0</td>\n",
       "      <td>42.995379</td>\n",
       "      <td>36.184981</td>\n",
       "      <td>4.0</td>\n",
       "      <td>20.0</td>\n",
       "      <td>39.0</td>\n",
       "      <td>49.0</td>\n",
       "      <td>280.0</td>\n",
       "    </tr>\n",
       "  </tbody>\n",
       "</table>\n",
       "<p>2 rows × 56 columns</p>\n",
       "</div>"
      ],
      "text/plain": [
       "    record_id                                                               \\\n",
       "        count          mean           std  min      25%      50%       75%   \n",
       "sex                                                                          \n",
       "F     15690.0  18036.412046  10423.089000  3.0  8917.50  18075.5  27250.00   \n",
       "M     17348.0  17754.835601  10132.203323  1.0  8969.75  17727.5  26454.25   \n",
       "\n",
       "                month            ... hindfoot_length         weight  \\\n",
       "         max    count      mean  ...             75%   max    count   \n",
       "sex                              ...                                  \n",
       "F    35547.0  15690.0  6.587253  ...            36.0  64.0  15303.0   \n",
       "M    35548.0  17348.0  6.396184  ...            36.0  58.0  16879.0   \n",
       "\n",
       "                                                         \n",
       "          mean        std  min   25%   50%   75%    max  \n",
       "sex                                                      \n",
       "F    42.170555  36.847958  4.0  20.0  34.0  46.0  274.0  \n",
       "M    42.995379  36.184981  4.0  20.0  39.0  49.0  280.0  \n",
       "\n",
       "[2 rows x 56 columns]"
      ]
     },
     "execution_count": 32,
     "metadata": {},
     "output_type": "execute_result"
    }
   ],
   "source": [
    "grouped_data.describe()"
   ]
  },
  {
   "cell_type": "code",
   "execution_count": 33,
   "id": "550dbb5e-68ec-434b-b6bc-2cf876472f87",
   "metadata": {},
   "outputs": [
    {
     "name": "stderr",
     "output_type": "stream",
     "text": [
      "/tmp/ipykernel_27547/1133710423.py:1: FutureWarning: The default value of numeric_only in DataFrameGroupBy.mean is deprecated. In a future version, numeric_only will default to False. Either specify numeric_only or select only columns which should be valid for the function.\n",
      "  grouped_data.mean()\n"
     ]
    },
    {
     "data": {
      "text/html": [
       "<div>\n",
       "<style scoped>\n",
       "    .dataframe tbody tr th:only-of-type {\n",
       "        vertical-align: middle;\n",
       "    }\n",
       "\n",
       "    .dataframe tbody tr th {\n",
       "        vertical-align: top;\n",
       "    }\n",
       "\n",
       "    .dataframe thead th {\n",
       "        text-align: right;\n",
       "    }\n",
       "</style>\n",
       "<table border=\"1\" class=\"dataframe\">\n",
       "  <thead>\n",
       "    <tr style=\"text-align: right;\">\n",
       "      <th></th>\n",
       "      <th>record_id</th>\n",
       "      <th>month</th>\n",
       "      <th>day</th>\n",
       "      <th>year</th>\n",
       "      <th>plot_id</th>\n",
       "      <th>hindfoot_length</th>\n",
       "      <th>weight</th>\n",
       "    </tr>\n",
       "    <tr>\n",
       "      <th>sex</th>\n",
       "      <th></th>\n",
       "      <th></th>\n",
       "      <th></th>\n",
       "      <th></th>\n",
       "      <th></th>\n",
       "      <th></th>\n",
       "      <th></th>\n",
       "    </tr>\n",
       "  </thead>\n",
       "  <tbody>\n",
       "    <tr>\n",
       "      <th>F</th>\n",
       "      <td>18036.412046</td>\n",
       "      <td>6.587253</td>\n",
       "      <td>15.880943</td>\n",
       "      <td>1990.644997</td>\n",
       "      <td>11.440854</td>\n",
       "      <td>28.836780</td>\n",
       "      <td>42.170555</td>\n",
       "    </tr>\n",
       "    <tr>\n",
       "      <th>M</th>\n",
       "      <td>17754.835601</td>\n",
       "      <td>6.396184</td>\n",
       "      <td>16.078799</td>\n",
       "      <td>1990.480401</td>\n",
       "      <td>11.098282</td>\n",
       "      <td>29.709578</td>\n",
       "      <td>42.995379</td>\n",
       "    </tr>\n",
       "  </tbody>\n",
       "</table>\n",
       "</div>"
      ],
      "text/plain": [
       "        record_id     month        day         year    plot_id  \\\n",
       "sex                                                              \n",
       "F    18036.412046  6.587253  15.880943  1990.644997  11.440854   \n",
       "M    17754.835601  6.396184  16.078799  1990.480401  11.098282   \n",
       "\n",
       "     hindfoot_length     weight  \n",
       "sex                              \n",
       "F          28.836780  42.170555  \n",
       "M          29.709578  42.995379  "
      ]
     },
     "execution_count": 33,
     "metadata": {},
     "output_type": "execute_result"
    }
   ],
   "source": [
    "grouped_data.mean()"
   ]
  },
  {
   "cell_type": "markdown",
   "id": "b43d3428-6d7f-4753-b416-5e9ddce97683",
   "metadata": {},
   "source": [
    "#### Challenge - Summary Data\n",
    "\n",
    "1. How many recorded individuals are female `F` and how many male `M`?\n",
    "2. What happens when you group by two columns using the following syntax and\n",
    "then calculate mean values?\n",
    "- `grouped_data2 = surveys_df.groupby(['plot_id', 'sex'])`\n",
    "- `grouped_data2.mean()`\n",
    "3. Summarize weight values for each site in your data. HINT: you can use the\n",
    "following syntax to only create summary statistics for one column in your data.\n",
    "`by_site['weight'].describe()`"
   ]
  },
  {
   "cell_type": "code",
   "execution_count": 36,
   "id": "13f8f695-9190-4735-8bae-7b38c1f55d53",
   "metadata": {},
   "outputs": [
    {
     "data": {
      "text/plain": [
       "sex\n",
       "F    15690\n",
       "M    17348\n",
       "Name: record_id, dtype: int64"
      ]
     },
     "execution_count": 36,
     "metadata": {},
     "output_type": "execute_result"
    }
   ],
   "source": [
    "surveys_df.groupby('sex')['record_id'].count()"
   ]
  },
  {
   "cell_type": "code",
   "execution_count": 37,
   "id": "1d726c89-67ea-4a47-9075-94769695086d",
   "metadata": {},
   "outputs": [
    {
     "data": {
      "text/plain": [
       "M    17348\n",
       "F    15690\n",
       "Name: sex, dtype: int64"
      ]
     },
     "execution_count": 37,
     "metadata": {},
     "output_type": "execute_result"
    }
   ],
   "source": [
    "surveys_df['sex'].value_counts()"
   ]
  },
  {
   "cell_type": "code",
   "execution_count": 38,
   "id": "a9ad4ab7-cc61-4d1f-9558-34ae311f3a28",
   "metadata": {
    "collapsed": true,
    "jupyter": {
     "outputs_hidden": true
    },
    "tags": []
   },
   "outputs": [
    {
     "name": "stdout",
     "output_type": "stream",
     "text": [
      "Help on method value_counts in module pandas.core.base:\n",
      "\n",
      "value_counts(normalize: 'bool' = False, sort: 'bool' = True, ascending: 'bool' = False, bins=None, dropna: 'bool' = True) -> 'Series' method of pandas.core.series.Series instance\n",
      "    Return a Series containing counts of unique values.\n",
      "    \n",
      "    The resulting object will be in descending order so that the\n",
      "    first element is the most frequently-occurring element.\n",
      "    Excludes NA values by default.\n",
      "    \n",
      "    Parameters\n",
      "    ----------\n",
      "    normalize : bool, default False\n",
      "        If True then the object returned will contain the relative\n",
      "        frequencies of the unique values.\n",
      "    sort : bool, default True\n",
      "        Sort by frequencies.\n",
      "    ascending : bool, default False\n",
      "        Sort in ascending order.\n",
      "    bins : int, optional\n",
      "        Rather than count values, group them into half-open bins,\n",
      "        a convenience for ``pd.cut``, only works with numeric data.\n",
      "    dropna : bool, default True\n",
      "        Don't include counts of NaN.\n",
      "    \n",
      "    Returns\n",
      "    -------\n",
      "    Series\n",
      "    \n",
      "    See Also\n",
      "    --------\n",
      "    Series.count: Number of non-NA elements in a Series.\n",
      "    DataFrame.count: Number of non-NA elements in a DataFrame.\n",
      "    DataFrame.value_counts: Equivalent method on DataFrames.\n",
      "    \n",
      "    Examples\n",
      "    --------\n",
      "    >>> index = pd.Index([3, 1, 2, 3, 4, np.nan])\n",
      "    >>> index.value_counts()\n",
      "    3.0    2\n",
      "    1.0    1\n",
      "    2.0    1\n",
      "    4.0    1\n",
      "    dtype: int64\n",
      "    \n",
      "    With `normalize` set to `True`, returns the relative frequency by\n",
      "    dividing all values by the sum of values.\n",
      "    \n",
      "    >>> s = pd.Series([3, 1, 2, 3, 4, np.nan])\n",
      "    >>> s.value_counts(normalize=True)\n",
      "    3.0    0.4\n",
      "    1.0    0.2\n",
      "    2.0    0.2\n",
      "    4.0    0.2\n",
      "    dtype: float64\n",
      "    \n",
      "    **bins**\n",
      "    \n",
      "    Bins can be useful for going from a continuous variable to a\n",
      "    categorical variable; instead of counting unique\n",
      "    apparitions of values, divide the index in the specified\n",
      "    number of half-open bins.\n",
      "    \n",
      "    >>> s.value_counts(bins=3)\n",
      "    (0.996, 2.0]    2\n",
      "    (2.0, 3.0]      2\n",
      "    (3.0, 4.0]      1\n",
      "    dtype: int64\n",
      "    \n",
      "    **dropna**\n",
      "    \n",
      "    With `dropna` set to `False` we can also see NaN index values.\n",
      "    \n",
      "    >>> s.value_counts(dropna=False)\n",
      "    3.0    2\n",
      "    1.0    1\n",
      "    2.0    1\n",
      "    4.0    1\n",
      "    NaN    1\n",
      "    dtype: int64\n",
      "\n"
     ]
    }
   ],
   "source": [
    "help(surveys_df['sex'].value_counts)"
   ]
  },
  {
   "cell_type": "code",
   "execution_count": 39,
   "id": "962afb0a-8990-492d-8d26-b9b5f022214e",
   "metadata": {
    "collapsed": true,
    "jupyter": {
     "outputs_hidden": true
    },
    "tags": []
   },
   "outputs": [
    {
     "name": "stderr",
     "output_type": "stream",
     "text": [
      "/tmp/ipykernel_27547/3671429500.py:2: FutureWarning: The default value of numeric_only in DataFrameGroupBy.mean is deprecated. In a future version, numeric_only will default to False. Either specify numeric_only or select only columns which should be valid for the function.\n",
      "  grouped_data2.mean()\n"
     ]
    },
    {
     "data": {
      "text/html": [
       "<div>\n",
       "<style scoped>\n",
       "    .dataframe tbody tr th:only-of-type {\n",
       "        vertical-align: middle;\n",
       "    }\n",
       "\n",
       "    .dataframe tbody tr th {\n",
       "        vertical-align: top;\n",
       "    }\n",
       "\n",
       "    .dataframe thead th {\n",
       "        text-align: right;\n",
       "    }\n",
       "</style>\n",
       "<table border=\"1\" class=\"dataframe\">\n",
       "  <thead>\n",
       "    <tr style=\"text-align: right;\">\n",
       "      <th></th>\n",
       "      <th></th>\n",
       "      <th>record_id</th>\n",
       "      <th>month</th>\n",
       "      <th>day</th>\n",
       "      <th>year</th>\n",
       "      <th>hindfoot_length</th>\n",
       "      <th>weight</th>\n",
       "    </tr>\n",
       "    <tr>\n",
       "      <th>plot_id</th>\n",
       "      <th>sex</th>\n",
       "      <th></th>\n",
       "      <th></th>\n",
       "      <th></th>\n",
       "      <th></th>\n",
       "      <th></th>\n",
       "      <th></th>\n",
       "    </tr>\n",
       "  </thead>\n",
       "  <tbody>\n",
       "    <tr>\n",
       "      <th rowspan=\"2\" valign=\"top\">1</th>\n",
       "      <th>F</th>\n",
       "      <td>18390.384434</td>\n",
       "      <td>6.597877</td>\n",
       "      <td>15.338443</td>\n",
       "      <td>1990.933962</td>\n",
       "      <td>31.733911</td>\n",
       "      <td>46.311138</td>\n",
       "    </tr>\n",
       "    <tr>\n",
       "      <th>M</th>\n",
       "      <td>17197.740639</td>\n",
       "      <td>6.121461</td>\n",
       "      <td>15.905936</td>\n",
       "      <td>1990.091324</td>\n",
       "      <td>34.302770</td>\n",
       "      <td>55.950560</td>\n",
       "    </tr>\n",
       "    <tr>\n",
       "      <th rowspan=\"2\" valign=\"top\">2</th>\n",
       "      <th>F</th>\n",
       "      <td>17714.753608</td>\n",
       "      <td>6.426804</td>\n",
       "      <td>16.288660</td>\n",
       "      <td>1990.449485</td>\n",
       "      <td>30.161220</td>\n",
       "      <td>52.561845</td>\n",
       "    </tr>\n",
       "    <tr>\n",
       "      <th>M</th>\n",
       "      <td>18085.458042</td>\n",
       "      <td>6.340035</td>\n",
       "      <td>15.440559</td>\n",
       "      <td>1990.756119</td>\n",
       "      <td>30.353760</td>\n",
       "      <td>51.391382</td>\n",
       "    </tr>\n",
       "    <tr>\n",
       "      <th rowspan=\"2\" valign=\"top\">3</th>\n",
       "      <th>F</th>\n",
       "      <td>19888.783875</td>\n",
       "      <td>6.610302</td>\n",
       "      <td>15.993281</td>\n",
       "      <td>1992.013438</td>\n",
       "      <td>23.774044</td>\n",
       "      <td>31.215349</td>\n",
       "    </tr>\n",
       "    <tr>\n",
       "      <th>M</th>\n",
       "      <td>20226.767857</td>\n",
       "      <td>6.277381</td>\n",
       "      <td>16.271429</td>\n",
       "      <td>1992.275000</td>\n",
       "      <td>23.833744</td>\n",
       "      <td>34.163241</td>\n",
       "    </tr>\n",
       "    <tr>\n",
       "      <th rowspan=\"2\" valign=\"top\">4</th>\n",
       "      <th>F</th>\n",
       "      <td>17489.205275</td>\n",
       "      <td>6.447248</td>\n",
       "      <td>15.608945</td>\n",
       "      <td>1990.235092</td>\n",
       "      <td>33.249102</td>\n",
       "      <td>46.818824</td>\n",
       "    </tr>\n",
       "    <tr>\n",
       "      <th>M</th>\n",
       "      <td>18493.841748</td>\n",
       "      <td>6.436893</td>\n",
       "      <td>16.303883</td>\n",
       "      <td>1991.000971</td>\n",
       "      <td>34.097959</td>\n",
       "      <td>48.888119</td>\n",
       "    </tr>\n",
       "    <tr>\n",
       "      <th rowspan=\"2\" valign=\"top\">5</th>\n",
       "      <th>F</th>\n",
       "      <td>12280.793169</td>\n",
       "      <td>6.142315</td>\n",
       "      <td>15.722960</td>\n",
       "      <td>1986.485769</td>\n",
       "      <td>28.921844</td>\n",
       "      <td>40.974806</td>\n",
       "    </tr>\n",
       "    <tr>\n",
       "      <th>M</th>\n",
       "      <td>12798.426621</td>\n",
       "      <td>6.194539</td>\n",
       "      <td>15.703072</td>\n",
       "      <td>1986.817406</td>\n",
       "      <td>29.694794</td>\n",
       "      <td>40.708551</td>\n",
       "    </tr>\n",
       "    <tr>\n",
       "      <th rowspan=\"2\" valign=\"top\">6</th>\n",
       "      <th>F</th>\n",
       "      <td>19406.503392</td>\n",
       "      <td>6.640434</td>\n",
       "      <td>15.947083</td>\n",
       "      <td>1991.579376</td>\n",
       "      <td>26.981322</td>\n",
       "      <td>36.352288</td>\n",
       "    </tr>\n",
       "    <tr>\n",
       "      <th>M</th>\n",
       "      <td>17849.574607</td>\n",
       "      <td>6.043194</td>\n",
       "      <td>15.856021</td>\n",
       "      <td>1990.556283</td>\n",
       "      <td>27.425591</td>\n",
       "      <td>36.867388</td>\n",
       "    </tr>\n",
       "    <tr>\n",
       "      <th rowspan=\"2\" valign=\"top\">7</th>\n",
       "      <th>F</th>\n",
       "      <td>19069.668657</td>\n",
       "      <td>6.385075</td>\n",
       "      <td>15.313433</td>\n",
       "      <td>1991.441791</td>\n",
       "      <td>19.779553</td>\n",
       "      <td>20.006135</td>\n",
       "    </tr>\n",
       "    <tr>\n",
       "      <th>M</th>\n",
       "      <td>19188.729642</td>\n",
       "      <td>6.719870</td>\n",
       "      <td>15.778502</td>\n",
       "      <td>1991.462541</td>\n",
       "      <td>20.536667</td>\n",
       "      <td>21.194719</td>\n",
       "    </tr>\n",
       "    <tr>\n",
       "      <th rowspan=\"2\" valign=\"top\">8</th>\n",
       "      <th>F</th>\n",
       "      <td>18920.276190</td>\n",
       "      <td>6.644048</td>\n",
       "      <td>15.479762</td>\n",
       "      <td>1991.267857</td>\n",
       "      <td>32.187578</td>\n",
       "      <td>45.623011</td>\n",
       "    </tr>\n",
       "    <tr>\n",
       "      <th>M</th>\n",
       "      <td>19452.109868</td>\n",
       "      <td>6.585961</td>\n",
       "      <td>15.427263</td>\n",
       "      <td>1991.686673</td>\n",
       "      <td>33.751059</td>\n",
       "      <td>49.641372</td>\n",
       "    </tr>\n",
       "    <tr>\n",
       "      <th rowspan=\"2\" valign=\"top\">9</th>\n",
       "      <th>F</th>\n",
       "      <td>16217.497069</td>\n",
       "      <td>6.507620</td>\n",
       "      <td>15.309496</td>\n",
       "      <td>1989.303634</td>\n",
       "      <td>35.126092</td>\n",
       "      <td>53.618469</td>\n",
       "    </tr>\n",
       "    <tr>\n",
       "      <th>M</th>\n",
       "      <td>18000.710159</td>\n",
       "      <td>6.369522</td>\n",
       "      <td>14.970120</td>\n",
       "      <td>1990.632470</td>\n",
       "      <td>34.175732</td>\n",
       "      <td>49.519309</td>\n",
       "    </tr>\n",
       "    <tr>\n",
       "      <th rowspan=\"2\" valign=\"top\">10</th>\n",
       "      <th>F</th>\n",
       "      <td>16001.496454</td>\n",
       "      <td>5.588652</td>\n",
       "      <td>16.964539</td>\n",
       "      <td>1989.248227</td>\n",
       "      <td>18.641791</td>\n",
       "      <td>17.094203</td>\n",
       "    </tr>\n",
       "    <tr>\n",
       "      <th>M</th>\n",
       "      <td>15708.704225</td>\n",
       "      <td>5.718310</td>\n",
       "      <td>16.739437</td>\n",
       "      <td>1989.007042</td>\n",
       "      <td>19.567164</td>\n",
       "      <td>19.971223</td>\n",
       "    </tr>\n",
       "    <tr>\n",
       "      <th rowspan=\"2\" valign=\"top\">11</th>\n",
       "      <th>F</th>\n",
       "      <td>16994.962287</td>\n",
       "      <td>6.770073</td>\n",
       "      <td>15.954988</td>\n",
       "      <td>1989.836983</td>\n",
       "      <td>32.029299</td>\n",
       "      <td>43.515075</td>\n",
       "    </tr>\n",
       "    <tr>\n",
       "      <th>M</th>\n",
       "      <td>16933.909621</td>\n",
       "      <td>6.379981</td>\n",
       "      <td>15.799806</td>\n",
       "      <td>1989.856171</td>\n",
       "      <td>32.078014</td>\n",
       "      <td>43.366197</td>\n",
       "    </tr>\n",
       "    <tr>\n",
       "      <th rowspan=\"2\" valign=\"top\">12</th>\n",
       "      <th>F</th>\n",
       "      <td>17457.966981</td>\n",
       "      <td>6.509434</td>\n",
       "      <td>16.305660</td>\n",
       "      <td>1990.266981</td>\n",
       "      <td>30.975124</td>\n",
       "      <td>49.831731</td>\n",
       "    </tr>\n",
       "    <tr>\n",
       "      <th>M</th>\n",
       "      <td>17592.327500</td>\n",
       "      <td>6.304167</td>\n",
       "      <td>16.367500</td>\n",
       "      <td>1990.400833</td>\n",
       "      <td>31.762489</td>\n",
       "      <td>48.909710</td>\n",
       "    </tr>\n",
       "    <tr>\n",
       "      <th rowspan=\"2\" valign=\"top\">13</th>\n",
       "      <th>F</th>\n",
       "      <td>18033.100318</td>\n",
       "      <td>6.815287</td>\n",
       "      <td>15.847134</td>\n",
       "      <td>1990.619427</td>\n",
       "      <td>27.201014</td>\n",
       "      <td>40.524590</td>\n",
       "    </tr>\n",
       "    <tr>\n",
       "      <th>M</th>\n",
       "      <td>16969.044700</td>\n",
       "      <td>6.485313</td>\n",
       "      <td>15.851852</td>\n",
       "      <td>1989.911877</td>\n",
       "      <td>27.893793</td>\n",
       "      <td>40.097754</td>\n",
       "    </tr>\n",
       "    <tr>\n",
       "      <th rowspan=\"2\" valign=\"top\">14</th>\n",
       "      <th>F</th>\n",
       "      <td>17097.145275</td>\n",
       "      <td>6.519041</td>\n",
       "      <td>16.427362</td>\n",
       "      <td>1989.974612</td>\n",
       "      <td>32.973373</td>\n",
       "      <td>47.355491</td>\n",
       "    </tr>\n",
       "    <tr>\n",
       "      <th>M</th>\n",
       "      <td>17891.948598</td>\n",
       "      <td>6.666355</td>\n",
       "      <td>16.336449</td>\n",
       "      <td>1990.587850</td>\n",
       "      <td>32.961802</td>\n",
       "      <td>45.159378</td>\n",
       "    </tr>\n",
       "    <tr>\n",
       "      <th rowspan=\"2\" valign=\"top\">15</th>\n",
       "      <th>F</th>\n",
       "      <td>20602.449064</td>\n",
       "      <td>6.582121</td>\n",
       "      <td>15.787942</td>\n",
       "      <td>1992.523909</td>\n",
       "      <td>21.949891</td>\n",
       "      <td>26.670236</td>\n",
       "    </tr>\n",
       "    <tr>\n",
       "      <th>M</th>\n",
       "      <td>18104.019560</td>\n",
       "      <td>6.193154</td>\n",
       "      <td>17.193154</td>\n",
       "      <td>1990.770171</td>\n",
       "      <td>21.803109</td>\n",
       "      <td>27.523691</td>\n",
       "    </tr>\n",
       "    <tr>\n",
       "      <th rowspan=\"2\" valign=\"top\">16</th>\n",
       "      <th>F</th>\n",
       "      <td>19002.445946</td>\n",
       "      <td>6.369369</td>\n",
       "      <td>16.549550</td>\n",
       "      <td>1991.351351</td>\n",
       "      <td>23.144928</td>\n",
       "      <td>25.810427</td>\n",
       "    </tr>\n",
       "    <tr>\n",
       "      <th>M</th>\n",
       "      <td>18434.714286</td>\n",
       "      <td>6.208791</td>\n",
       "      <td>16.402930</td>\n",
       "      <td>1990.926740</td>\n",
       "      <td>23.480916</td>\n",
       "      <td>23.811321</td>\n",
       "    </tr>\n",
       "    <tr>\n",
       "      <th rowspan=\"2\" valign=\"top\">17</th>\n",
       "      <th>F</th>\n",
       "      <td>18234.322870</td>\n",
       "      <td>6.650224</td>\n",
       "      <td>15.892377</td>\n",
       "      <td>1990.785874</td>\n",
       "      <td>30.918536</td>\n",
       "      <td>48.176201</td>\n",
       "    </tr>\n",
       "    <tr>\n",
       "      <th>M</th>\n",
       "      <td>18857.651472</td>\n",
       "      <td>6.569801</td>\n",
       "      <td>16.183286</td>\n",
       "      <td>1991.331434</td>\n",
       "      <td>32.227634</td>\n",
       "      <td>47.558853</td>\n",
       "    </tr>\n",
       "    <tr>\n",
       "      <th rowspan=\"2\" valign=\"top\">18</th>\n",
       "      <th>F</th>\n",
       "      <td>17940.875497</td>\n",
       "      <td>6.698013</td>\n",
       "      <td>15.960265</td>\n",
       "      <td>1990.536424</td>\n",
       "      <td>26.690341</td>\n",
       "      <td>36.963514</td>\n",
       "    </tr>\n",
       "    <tr>\n",
       "      <th>M</th>\n",
       "      <td>15106.718850</td>\n",
       "      <td>6.610224</td>\n",
       "      <td>16.797125</td>\n",
       "      <td>1988.551118</td>\n",
       "      <td>27.703072</td>\n",
       "      <td>43.546952</td>\n",
       "    </tr>\n",
       "    <tr>\n",
       "      <th rowspan=\"2\" valign=\"top\">19</th>\n",
       "      <th>F</th>\n",
       "      <td>21848.216475</td>\n",
       "      <td>6.701149</td>\n",
       "      <td>15.226054</td>\n",
       "      <td>1993.417625</td>\n",
       "      <td>21.257937</td>\n",
       "      <td>21.978599</td>\n",
       "    </tr>\n",
       "    <tr>\n",
       "      <th>M</th>\n",
       "      <td>19470.779690</td>\n",
       "      <td>6.533563</td>\n",
       "      <td>16.647160</td>\n",
       "      <td>1991.740103</td>\n",
       "      <td>21.071685</td>\n",
       "      <td>20.306878</td>\n",
       "    </tr>\n",
       "    <tr>\n",
       "      <th rowspan=\"2\" valign=\"top\">20</th>\n",
       "      <th>F</th>\n",
       "      <td>17510.769231</td>\n",
       "      <td>6.743077</td>\n",
       "      <td>16.026154</td>\n",
       "      <td>1990.253846</td>\n",
       "      <td>27.069193</td>\n",
       "      <td>52.624406</td>\n",
       "    </tr>\n",
       "    <tr>\n",
       "      <th>M</th>\n",
       "      <td>16076.192496</td>\n",
       "      <td>6.489396</td>\n",
       "      <td>16.375204</td>\n",
       "      <td>1989.243067</td>\n",
       "      <td>27.908451</td>\n",
       "      <td>44.197279</td>\n",
       "    </tr>\n",
       "    <tr>\n",
       "      <th rowspan=\"2\" valign=\"top\">21</th>\n",
       "      <th>F</th>\n",
       "      <td>22452.636661</td>\n",
       "      <td>6.860884</td>\n",
       "      <td>16.307692</td>\n",
       "      <td>1993.878887</td>\n",
       "      <td>22.366554</td>\n",
       "      <td>25.974832</td>\n",
       "    </tr>\n",
       "    <tr>\n",
       "      <th>M</th>\n",
       "      <td>20120.399113</td>\n",
       "      <td>6.671840</td>\n",
       "      <td>16.203991</td>\n",
       "      <td>1992.199557</td>\n",
       "      <td>21.736721</td>\n",
       "      <td>22.772622</td>\n",
       "    </tr>\n",
       "    <tr>\n",
       "      <th rowspan=\"2\" valign=\"top\">22</th>\n",
       "      <th>F</th>\n",
       "      <td>18499.695976</td>\n",
       "      <td>6.651267</td>\n",
       "      <td>15.521610</td>\n",
       "      <td>1990.973174</td>\n",
       "      <td>34.108320</td>\n",
       "      <td>53.647059</td>\n",
       "    </tr>\n",
       "    <tr>\n",
       "      <th>M</th>\n",
       "      <td>18015.365527</td>\n",
       "      <td>6.381872</td>\n",
       "      <td>16.682021</td>\n",
       "      <td>1990.650817</td>\n",
       "      <td>33.359746</td>\n",
       "      <td>54.572531</td>\n",
       "    </tr>\n",
       "    <tr>\n",
       "      <th rowspan=\"2\" valign=\"top\">23</th>\n",
       "      <th>F</th>\n",
       "      <td>15863.193939</td>\n",
       "      <td>6.860606</td>\n",
       "      <td>16.036364</td>\n",
       "      <td>1989.024242</td>\n",
       "      <td>20.051948</td>\n",
       "      <td>20.564417</td>\n",
       "    </tr>\n",
       "    <tr>\n",
       "      <th>M</th>\n",
       "      <td>17091.338164</td>\n",
       "      <td>6.391304</td>\n",
       "      <td>16.077295</td>\n",
       "      <td>1989.961353</td>\n",
       "      <td>19.850000</td>\n",
       "      <td>18.941463</td>\n",
       "    </tr>\n",
       "    <tr>\n",
       "      <th rowspan=\"2\" valign=\"top\">24</th>\n",
       "      <th>F</th>\n",
       "      <td>13702.224280</td>\n",
       "      <td>6.596708</td>\n",
       "      <td>16.393004</td>\n",
       "      <td>1987.485597</td>\n",
       "      <td>26.993377</td>\n",
       "      <td>47.914405</td>\n",
       "    </tr>\n",
       "    <tr>\n",
       "      <th>M</th>\n",
       "      <td>15208.136082</td>\n",
       "      <td>6.360825</td>\n",
       "      <td>16.971134</td>\n",
       "      <td>1988.641237</td>\n",
       "      <td>25.786996</td>\n",
       "      <td>39.321503</td>\n",
       "    </tr>\n",
       "  </tbody>\n",
       "</table>\n",
       "</div>"
      ],
      "text/plain": [
       "                record_id     month        day         year  hindfoot_length  \\\n",
       "plot_id sex                                                                    \n",
       "1       F    18390.384434  6.597877  15.338443  1990.933962        31.733911   \n",
       "        M    17197.740639  6.121461  15.905936  1990.091324        34.302770   \n",
       "2       F    17714.753608  6.426804  16.288660  1990.449485        30.161220   \n",
       "        M    18085.458042  6.340035  15.440559  1990.756119        30.353760   \n",
       "3       F    19888.783875  6.610302  15.993281  1992.013438        23.774044   \n",
       "        M    20226.767857  6.277381  16.271429  1992.275000        23.833744   \n",
       "4       F    17489.205275  6.447248  15.608945  1990.235092        33.249102   \n",
       "        M    18493.841748  6.436893  16.303883  1991.000971        34.097959   \n",
       "5       F    12280.793169  6.142315  15.722960  1986.485769        28.921844   \n",
       "        M    12798.426621  6.194539  15.703072  1986.817406        29.694794   \n",
       "6       F    19406.503392  6.640434  15.947083  1991.579376        26.981322   \n",
       "        M    17849.574607  6.043194  15.856021  1990.556283        27.425591   \n",
       "7       F    19069.668657  6.385075  15.313433  1991.441791        19.779553   \n",
       "        M    19188.729642  6.719870  15.778502  1991.462541        20.536667   \n",
       "8       F    18920.276190  6.644048  15.479762  1991.267857        32.187578   \n",
       "        M    19452.109868  6.585961  15.427263  1991.686673        33.751059   \n",
       "9       F    16217.497069  6.507620  15.309496  1989.303634        35.126092   \n",
       "        M    18000.710159  6.369522  14.970120  1990.632470        34.175732   \n",
       "10      F    16001.496454  5.588652  16.964539  1989.248227        18.641791   \n",
       "        M    15708.704225  5.718310  16.739437  1989.007042        19.567164   \n",
       "11      F    16994.962287  6.770073  15.954988  1989.836983        32.029299   \n",
       "        M    16933.909621  6.379981  15.799806  1989.856171        32.078014   \n",
       "12      F    17457.966981  6.509434  16.305660  1990.266981        30.975124   \n",
       "        M    17592.327500  6.304167  16.367500  1990.400833        31.762489   \n",
       "13      F    18033.100318  6.815287  15.847134  1990.619427        27.201014   \n",
       "        M    16969.044700  6.485313  15.851852  1989.911877        27.893793   \n",
       "14      F    17097.145275  6.519041  16.427362  1989.974612        32.973373   \n",
       "        M    17891.948598  6.666355  16.336449  1990.587850        32.961802   \n",
       "15      F    20602.449064  6.582121  15.787942  1992.523909        21.949891   \n",
       "        M    18104.019560  6.193154  17.193154  1990.770171        21.803109   \n",
       "16      F    19002.445946  6.369369  16.549550  1991.351351        23.144928   \n",
       "        M    18434.714286  6.208791  16.402930  1990.926740        23.480916   \n",
       "17      F    18234.322870  6.650224  15.892377  1990.785874        30.918536   \n",
       "        M    18857.651472  6.569801  16.183286  1991.331434        32.227634   \n",
       "18      F    17940.875497  6.698013  15.960265  1990.536424        26.690341   \n",
       "        M    15106.718850  6.610224  16.797125  1988.551118        27.703072   \n",
       "19      F    21848.216475  6.701149  15.226054  1993.417625        21.257937   \n",
       "        M    19470.779690  6.533563  16.647160  1991.740103        21.071685   \n",
       "20      F    17510.769231  6.743077  16.026154  1990.253846        27.069193   \n",
       "        M    16076.192496  6.489396  16.375204  1989.243067        27.908451   \n",
       "21      F    22452.636661  6.860884  16.307692  1993.878887        22.366554   \n",
       "        M    20120.399113  6.671840  16.203991  1992.199557        21.736721   \n",
       "22      F    18499.695976  6.651267  15.521610  1990.973174        34.108320   \n",
       "        M    18015.365527  6.381872  16.682021  1990.650817        33.359746   \n",
       "23      F    15863.193939  6.860606  16.036364  1989.024242        20.051948   \n",
       "        M    17091.338164  6.391304  16.077295  1989.961353        19.850000   \n",
       "24      F    13702.224280  6.596708  16.393004  1987.485597        26.993377   \n",
       "        M    15208.136082  6.360825  16.971134  1988.641237        25.786996   \n",
       "\n",
       "                weight  \n",
       "plot_id sex             \n",
       "1       F    46.311138  \n",
       "        M    55.950560  \n",
       "2       F    52.561845  \n",
       "        M    51.391382  \n",
       "3       F    31.215349  \n",
       "        M    34.163241  \n",
       "4       F    46.818824  \n",
       "        M    48.888119  \n",
       "5       F    40.974806  \n",
       "        M    40.708551  \n",
       "6       F    36.352288  \n",
       "        M    36.867388  \n",
       "7       F    20.006135  \n",
       "        M    21.194719  \n",
       "8       F    45.623011  \n",
       "        M    49.641372  \n",
       "9       F    53.618469  \n",
       "        M    49.519309  \n",
       "10      F    17.094203  \n",
       "        M    19.971223  \n",
       "11      F    43.515075  \n",
       "        M    43.366197  \n",
       "12      F    49.831731  \n",
       "        M    48.909710  \n",
       "13      F    40.524590  \n",
       "        M    40.097754  \n",
       "14      F    47.355491  \n",
       "        M    45.159378  \n",
       "15      F    26.670236  \n",
       "        M    27.523691  \n",
       "16      F    25.810427  \n",
       "        M    23.811321  \n",
       "17      F    48.176201  \n",
       "        M    47.558853  \n",
       "18      F    36.963514  \n",
       "        M    43.546952  \n",
       "19      F    21.978599  \n",
       "        M    20.306878  \n",
       "20      F    52.624406  \n",
       "        M    44.197279  \n",
       "21      F    25.974832  \n",
       "        M    22.772622  \n",
       "22      F    53.647059  \n",
       "        M    54.572531  \n",
       "23      F    20.564417  \n",
       "        M    18.941463  \n",
       "24      F    47.914405  \n",
       "        M    39.321503  "
      ]
     },
     "execution_count": 39,
     "metadata": {},
     "output_type": "execute_result"
    }
   ],
   "source": [
    "grouped_data2 = surveys_df.groupby(['plot_id', 'sex'])\n",
    "grouped_data2.mean()"
   ]
  },
  {
   "cell_type": "markdown",
   "id": "2da75c78-836e-4f47-8658-b26a5460186d",
   "metadata": {},
   "source": [
    "## Plotting (quick and dirty)"
   ]
  },
  {
   "cell_type": "code",
   "execution_count": 40,
   "id": "acfc3dd5-557c-44e5-bb25-9d363708da91",
   "metadata": {},
   "outputs": [],
   "source": [
    "# tell jupyter to show figures inline\n",
    "%matplotlib inline"
   ]
  },
  {
   "cell_type": "code",
   "execution_count": 43,
   "id": "4b1334a1-08cb-4893-b627-675b439e3d46",
   "metadata": {},
   "outputs": [],
   "source": [
    "# Create a quick bar chart\n",
    "species_counts = surveys_df.groupby('species_id')['record_id'].count()\n",
    "species_counts = surveys_df['species_id'].value_counts()"
   ]
  },
  {
   "cell_type": "code",
   "execution_count": 44,
   "id": "6df4816f-ca41-4524-8854-9479e12308fb",
   "metadata": {
    "collapsed": true,
    "jupyter": {
     "outputs_hidden": true
    },
    "tags": []
   },
   "outputs": [
    {
     "data": {
      "text/plain": [
       "DM    10596\n",
       "PP     3123\n",
       "DO     3027\n",
       "PB     2891\n",
       "RM     2609\n",
       "DS     2504\n",
       "OT     2249\n",
       "PF     1597\n",
       "PE     1299\n",
       "NL     1252\n",
       "OL     1006\n",
       "PM      899\n",
       "AH      437\n",
       "AB      303\n",
       "SS      248\n",
       "SH      147\n",
       "SA       75\n",
       "RF       75\n",
       "CB       50\n",
       "BA       46\n",
       "SO       43\n",
       "SF       43\n",
       "DX       40\n",
       "PC       39\n",
       "PL       36\n",
       "PH       32\n",
       "CQ       16\n",
       "CM       13\n",
       "OX       12\n",
       "UR       10\n",
       "PI        9\n",
       "UP        8\n",
       "PG        8\n",
       "RO        8\n",
       "PX        6\n",
       "SU        5\n",
       "PU        5\n",
       "US        4\n",
       "UL        4\n",
       "AS        2\n",
       "RX        2\n",
       "ZL        2\n",
       "ST        1\n",
       "CU        1\n",
       "SC        1\n",
       "CS        1\n",
       "CT        1\n",
       "CV        1\n",
       "Name: species_id, dtype: int64"
      ]
     },
     "execution_count": 44,
     "metadata": {},
     "output_type": "execute_result"
    }
   ],
   "source": [
    "species_counts"
   ]
  },
  {
   "cell_type": "code",
   "execution_count": 45,
   "id": "ae59c517-a13e-409a-926d-ed7a8f9b43e4",
   "metadata": {},
   "outputs": [
    {
     "data": {
      "text/plain": [
       "<AxesSubplot: >"
      ]
     },
     "execution_count": 45,
     "metadata": {},
     "output_type": "execute_result"
    },
    {
     "data": {
      "image/png": "[encoded data removed]",
      "text/plain": [
       "<Figure size 640x480 with 1 Axes>"
      ]
     },
     "metadata": {},
     "output_type": "display_data"
    }
   ],
   "source": [
    "species_counts.plot(kind='bar')"
   ]
  },
  {
   "cell_type": "markdown",
   "id": "55c0a8c4-dcc1-4bfd-8ae0-99329c520a01",
   "metadata": {},
   "source": [
    "#### Challenge - Plots\n",
    "\n",
    "1. Create a plot of average weight across all species per site.\n",
    "2. Create a plot of total males versus total females for the entire dataset."
   ]
  },
  {
   "cell_type": "code",
   "execution_count": 46,
   "id": "b2a0a6b4-bdd7-4c86-87d4-a775707e3b57",
   "metadata": {},
   "outputs": [],
   "source": [
    "grouped_data = surveys_df.groupby('plot_id')"
   ]
  },
  {
   "cell_type": "code",
   "execution_count": 47,
   "id": "947e7606-1f3b-42da-9435-b8d456bdfc40",
   "metadata": {},
   "outputs": [],
   "source": [
    "average_weight_per_plot = grouped_data['weight'].mean()"
   ]
  },
  {
   "cell_type": "code",
   "execution_count": 48,
   "id": "25a24781-c17b-414c-8b7f-f522e413875e",
   "metadata": {},
   "outputs": [
    {
     "data": {
      "text/plain": [
       "<AxesSubplot: xlabel='plot_id'>"
      ]
     },
     "execution_count": 48,
     "metadata": {},
     "output_type": "execute_result"
    },
    {
     "data": {
      "image/png": "[encoded data removed]",
      "text/plain": [
       "<Figure size 640x480 with 1 Axes>"
      ]
     },
     "metadata": {},
     "output_type": "display_data"
    }
   ],
   "source": [
    "average_weight_per_plot.plot(kind='bar')"
   ]
  },
  {
   "cell_type": "code",
   "execution_count": 49,
   "id": "7cf90d1b-7f3e-4383-bbaa-4d6894d3fa56",
   "metadata": {},
   "outputs": [],
   "source": [
    "sex_counts = surveys_df['sex'].value_counts()"
   ]
  },
  {
   "cell_type": "code",
   "execution_count": 50,
   "id": "fc1a3233-19d6-4e08-b5b9-2e3f8e5a44d9",
   "metadata": {},
   "outputs": [
    {
     "data": {
      "text/plain": [
       "<AxesSubplot: >"
      ]
     },
     "execution_count": 50,
     "metadata": {},
     "output_type": "execute_result"
    },
    {
     "data": {
      "image/png": "[encoded data removed]",
      "text/plain": [
       "<Figure size 640x480 with 1 Axes>"
      ]
     },
     "metadata": {},
     "output_type": "display_data"
    }
   ],
   "source": [
    "sex_counts.plot(kind='bar')"
   ]
  },
  {
   "cell_type": "code",
   "execution_count": null,
   "id": "796df894-599f-46a0-8f6a-8bba7a201fda",
   "metadata": {},
   "outputs": [],
   "source": []
  }
 ],
 "metadata": {
  "kernelspec": {
   "display_name": "Python 3 (ipykernel)",
   "language": "python",
   "name": "python3"
  },
  "language_info": {
   "codemirror_mode": {
    "name": "ipython",
    "version": 3
   },
   "file_extension": ".py",
   "mimetype": "text/x-python",
   "name": "python",
   "nbconvert_exporter": "python",
   "pygments_lexer": "ipython3",
   "version": "3.10.8"
  }
 },
 "nbformat": 4,
 "nbformat_minor": 5
}
